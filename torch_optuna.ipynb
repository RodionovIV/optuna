{
 "cells": [
  {
   "cell_type": "code",
   "execution_count": 1,
   "id": "940e0002",
   "metadata": {},
   "outputs": [],
   "source": [
    "import os\n",
    "import re\n",
    "import pandas as pd\n",
    "import numpy as np\n",
    "import matplotlib.pyplot as plt\n",
    "import seaborn as sns\n",
    "import torch\n",
    "import transformers as ppb\n",
    "from sklearn.model_selection import train_test_split\n",
    "from sklearn.linear_model import LogisticRegression\n",
    "from sklearn.model_selection import cross_val_score\n",
    "import warnings\n",
    "\n",
    "from sklearn.base import BaseEstimator\n",
    "from sklearn.metrics import roc_auc_score, roc_curve, accuracy_score, confusion_matrix\n",
    "\n",
    "warnings.filterwarnings('ignore')"
   ]
  },
  {
   "cell_type": "code",
   "execution_count": 2,
   "id": "96ebbde7",
   "metadata": {},
   "outputs": [
    {
     "name": "stdout",
     "output_type": "stream",
     "text": [
      "Tue Jul 11 23:31:53 2023       \r\n",
      "+-----------------------------------------------------------------------------+\r\n",
      "| NVIDIA-SMI 510.108.03   Driver Version: 510.108.03   CUDA Version: 11.6     |\r\n",
      "|-------------------------------+----------------------+----------------------+\r\n",
      "| GPU  Name        Persistence-M| Bus-Id        Disp.A | Volatile Uncorr. ECC |\r\n",
      "| Fan  Temp  Perf  Pwr:Usage/Cap|         Memory-Usage | GPU-Util  Compute M. |\r\n",
      "|                               |                      |               MIG M. |\r\n",
      "|===============================+======================+======================|\r\n",
      "|   0  NVIDIA GeForce ...  Off  | 00000000:01:00.0  On |                  N/A |\r\n",
      "|  0%   42C    P8    21W / 170W |   1134MiB / 12288MiB |     10%      Default |\r\n",
      "|                               |                      |                  N/A |\r\n",
      "+-------------------------------+----------------------+----------------------+\r\n",
      "                                                                               \r\n",
      "+-----------------------------------------------------------------------------+\r\n",
      "| Processes:                                                                  |\r\n",
      "|  GPU   GI   CI        PID   Type   Process name                  GPU Memory |\r\n",
      "|        ID   ID                                                   Usage      |\r\n",
      "|=============================================================================|\r\n",
      "|    0   N/A  N/A      1037      G   /usr/lib/xorg/Xorg                 35MiB |\r\n",
      "|    0   N/A  N/A      8515      G   /usr/lib/xorg/Xorg                562MiB |\r\n",
      "|    0   N/A  N/A      8646      G   /usr/bin/gnome-shell               63MiB |\r\n",
      "|    0   N/A  N/A     11688      G   /usr/lib/firefox/firefox          166MiB |\r\n",
      "|    0   N/A  N/A     16863      G   ...b/thunderbird/thunderbird       76MiB |\r\n",
      "|    0   N/A  N/A     58757      G   /usr/bin/nvidia-settings            0MiB |\r\n",
      "|    0   N/A  N/A     66157      G   ...2gtk-4.0/WebKitWebProcess       16MiB |\r\n",
      "|    0   N/A  N/A     87541      G   ...925088970520720642,131072      164MiB |\r\n",
      "|    0   N/A  N/A     88505      G   ...veSuggestionsOnlyOnDemand       32MiB |\r\n",
      "+-----------------------------------------------------------------------------+\r\n"
     ]
    }
   ],
   "source": [
    "! nvidia-smi"
   ]
  },
  {
   "cell_type": "code",
   "execution_count": 3,
   "id": "11aea4d7",
   "metadata": {},
   "outputs": [
    {
     "data": {
      "text/plain": [
       "(6920, 2)"
      ]
     },
     "execution_count": 3,
     "metadata": {},
     "output_type": "execute_result"
    }
   ],
   "source": [
    "df = pd.read_csv(\n",
    "    'STT2.tsv',\n",
    "    delimiter='\\t',\n",
    "    header=None\n",
    ").rename(columns={0:\"text\", 1:\"target\"})\n",
    "df.shape"
   ]
  },
  {
   "cell_type": "code",
   "execution_count": 4,
   "id": "7b37826b",
   "metadata": {},
   "outputs": [
    {
     "data": {
      "text/html": [
       "<div>\n",
       "<style scoped>\n",
       "    .dataframe tbody tr th:only-of-type {\n",
       "        vertical-align: middle;\n",
       "    }\n",
       "\n",
       "    .dataframe tbody tr th {\n",
       "        vertical-align: top;\n",
       "    }\n",
       "\n",
       "    .dataframe thead th {\n",
       "        text-align: right;\n",
       "    }\n",
       "</style>\n",
       "<table border=\"1\" class=\"dataframe\">\n",
       "  <thead>\n",
       "    <tr style=\"text-align: right;\">\n",
       "      <th></th>\n",
       "      <th>text</th>\n",
       "      <th>target</th>\n",
       "    </tr>\n",
       "  </thead>\n",
       "  <tbody>\n",
       "    <tr>\n",
       "      <th>0</th>\n",
       "      <td>a stirring , funny and finally transporting re...</td>\n",
       "      <td>1</td>\n",
       "    </tr>\n",
       "    <tr>\n",
       "      <th>1</th>\n",
       "      <td>apparently reassembled from the cutting room f...</td>\n",
       "      <td>0</td>\n",
       "    </tr>\n",
       "    <tr>\n",
       "      <th>2</th>\n",
       "      <td>they presume their audience wo n't sit still f...</td>\n",
       "      <td>0</td>\n",
       "    </tr>\n",
       "    <tr>\n",
       "      <th>3</th>\n",
       "      <td>this is a visually stunning rumination on love...</td>\n",
       "      <td>1</td>\n",
       "    </tr>\n",
       "    <tr>\n",
       "      <th>4</th>\n",
       "      <td>jonathan parker 's bartleby should have been t...</td>\n",
       "      <td>1</td>\n",
       "    </tr>\n",
       "  </tbody>\n",
       "</table>\n",
       "</div>"
      ],
      "text/plain": [
       "                                                text  target\n",
       "0  a stirring , funny and finally transporting re...       1\n",
       "1  apparently reassembled from the cutting room f...       0\n",
       "2  they presume their audience wo n't sit still f...       0\n",
       "3  this is a visually stunning rumination on love...       1\n",
       "4  jonathan parker 's bartleby should have been t...       1"
      ]
     },
     "execution_count": 4,
     "metadata": {},
     "output_type": "execute_result"
    }
   ],
   "source": [
    "df.head()"
   ]
  },
  {
   "cell_type": "code",
   "execution_count": 33,
   "id": "0738839b",
   "metadata": {},
   "outputs": [],
   "source": [
    "tmp_df=df.copy()"
   ]
  },
  {
   "cell_type": "code",
   "execution_count": 34,
   "id": "0740b676",
   "metadata": {},
   "outputs": [],
   "source": [
    "true_df=df[df.target==1]\n",
    "false_df=df[df.target==0].iloc[:500]"
   ]
  },
  {
   "cell_type": "code",
   "execution_count": 36,
   "id": "7e8cb238",
   "metadata": {},
   "outputs": [],
   "source": [
    "df=pd.concat([true_df, false_df])"
   ]
  },
  {
   "cell_type": "code",
   "execution_count": 6,
   "id": "e08a7431",
   "metadata": {},
   "outputs": [
    {
     "data": {
      "text/plain": [
       "target\n",
       "1    3610\n",
       "0    3310\n",
       "Name: count, dtype: int64"
      ]
     },
     "execution_count": 6,
     "metadata": {},
     "output_type": "execute_result"
    }
   ],
   "source": [
    "df.target.value_counts()"
   ]
  },
  {
   "cell_type": "markdown",
   "id": "e3a0603c",
   "metadata": {},
   "source": [
    "# Baseline"
   ]
  },
  {
   "cell_type": "code",
   "execution_count": 5,
   "id": "8f2c584e",
   "metadata": {},
   "outputs": [],
   "source": [
    "model_class, tokenizer_class, pretrained_weights = (\n",
    "    ppb.DistilBertModel,\n",
    "    ppb.DistilBertTokenizer,\n",
    "    'distilbert-base-uncased'\n",
    ")"
   ]
  },
  {
   "cell_type": "code",
   "execution_count": 6,
   "id": "6900727f",
   "metadata": {},
   "outputs": [
    {
     "name": "stderr",
     "output_type": "stream",
     "text": [
      "Some weights of the model checkpoint at distilbert-base-uncased were not used when initializing DistilBertModel: ['vocab_projector.bias', 'vocab_transform.weight', 'vocab_layer_norm.bias', 'vocab_transform.bias', 'vocab_layer_norm.weight']\n",
      "- This IS expected if you are initializing DistilBertModel from the checkpoint of a model trained on another task or with another architecture (e.g. initializing a BertForSequenceClassification model from a BertForPreTraining model).\n",
      "- This IS NOT expected if you are initializing DistilBertModel from the checkpoint of a model that you expect to be exactly identical (initializing a BertForSequenceClassification model from a BertForSequenceClassification model).\n"
     ]
    }
   ],
   "source": [
    "tokenizer = tokenizer_class.from_pretrained(pretrained_weights)\n",
    "model = model_class.from_pretrained(pretrained_weights)"
   ]
  },
  {
   "cell_type": "code",
   "execution_count": 7,
   "id": "68c76d5d",
   "metadata": {},
   "outputs": [
    {
     "data": {
      "text/plain": [
       "'a stirring , funny and finally transporting re imagining of beauty and the beast and 1930s horror films'"
      ]
     },
     "execution_count": 7,
     "metadata": {},
     "output_type": "execute_result"
    }
   ],
   "source": [
    "test=df.text.iloc[0]\n",
    "test"
   ]
  },
  {
   "cell_type": "code",
   "execution_count": 8,
   "id": "a09165ed",
   "metadata": {},
   "outputs": [
    {
     "data": {
      "text/plain": [
       "{'input_ids': [101, 1037, 18385, 1010, 6057, 1998, 2633, 18276, 2128, 16603, 1997, 5053, 1998, 1996, 6841, 1998, 5687, 5469, 3152, 102], 'attention_mask': [1, 1, 1, 1, 1, 1, 1, 1, 1, 1, 1, 1, 1, 1, 1, 1, 1, 1, 1, 1]}"
      ]
     },
     "execution_count": 8,
     "metadata": {},
     "output_type": "execute_result"
    }
   ],
   "source": [
    "tokenizer.encode_plus(test, add_special_tokens=True, truncation=True)"
   ]
  },
  {
   "cell_type": "code",
   "execution_count": 9,
   "id": "e1e723f9",
   "metadata": {},
   "outputs": [
    {
     "data": {
      "text/plain": [
       "{'input_ids': [101, 1037, 18385, 1010, 6057, 1998, 2633, 18276, 2128, 16603, 1997, 5053, 1998, 1996, 6841, 1998, 5687, 5469, 3152, 102], 'attention_mask': [1, 1, 1, 1, 1, 1, 1, 1, 1, 1, 1, 1, 1, 1, 1, 1, 1, 1, 1, 1]}"
      ]
     },
     "execution_count": 9,
     "metadata": {},
     "output_type": "execute_result"
    }
   ],
   "source": [
    "tokenized_test=tokenizer(test, add_special_tokens=True)\n",
    "tokenized_test"
   ]
  },
  {
   "cell_type": "code",
   "execution_count": 10,
   "id": "ffab20a6",
   "metadata": {},
   "outputs": [],
   "source": [
    "tokens=df.apply(lambda x: tokenizer(x.text, add_special_tokens=True), axis=1).tolist()"
   ]
  },
  {
   "cell_type": "code",
   "execution_count": 11,
   "id": "a0594f87",
   "metadata": {},
   "outputs": [],
   "source": [
    "def get_max_len(tokens):\n",
    "    key=\"input_ids\"\n",
    "    get_array=lambda x: x[key]\n",
    "    max_len=0\n",
    "    for value in tokens:\n",
    "        cur_len=len(get_array(value))\n",
    "        max_len=max(max_len, cur_len)\n",
    "    return max_len\n",
    "\n",
    "def padding(max_len, value):\n",
    "    padded = value + [0]*(max_len-len(value))\n",
    "    return padded\n",
    "\n",
    "def make_padded_tokens(max_len, tokens):\n",
    "    #input_ids, attention_mask = [], []\n",
    "    result=[]\n",
    "    for token in tokens:\n",
    "        cur_id, cur_att = token[\"input_ids\"], token[\"attention_mask\"]\n",
    "        result.append({\"input_ids\":padding(max_len,cur_id), \"attention_mask\":padding(max_len, cur_att)})\n",
    "        #input_ids.append(padding(max_len, cur_id))\n",
    "        #attention_mask.append(padding(max_len, cur_att))\n",
    "    \n",
    "    return result"
   ]
  },
  {
   "cell_type": "code",
   "execution_count": 12,
   "id": "7a568752",
   "metadata": {},
   "outputs": [
    {
     "data": {
      "text/plain": [
       "target\n",
       "1    3610\n",
       "0    3310\n",
       "Name: count, dtype: int64"
      ]
     },
     "execution_count": 12,
     "metadata": {},
     "output_type": "execute_result"
    }
   ],
   "source": [
    "df.target.value_counts()"
   ]
  },
  {
   "cell_type": "code",
   "execution_count": 13,
   "id": "67336cbb",
   "metadata": {},
   "outputs": [],
   "source": [
    "max_len=get_max_len(tokens)"
   ]
  },
  {
   "cell_type": "code",
   "execution_count": 14,
   "id": "8b503cdf",
   "metadata": {},
   "outputs": [],
   "source": [
    "padded_tokens=make_padded_tokens(max_len, tokens)"
   ]
  },
  {
   "cell_type": "code",
   "execution_count": 15,
   "id": "5a544a18",
   "metadata": {},
   "outputs": [],
   "source": [
    "for i in range(len(padded_tokens)):\n",
    "    padded_tokens[i][\"label\"]=[df.target.iloc[i]]"
   ]
  },
  {
   "cell_type": "code",
   "execution_count": 16,
   "id": "5c1b7e76",
   "metadata": {},
   "outputs": [],
   "source": [
    "class CustomDataset(torch.utils.data.Dataset):\n",
    "    def __init__(self, data):\n",
    "        self.data=data\n",
    "        self.len=len(data)\n",
    "    def __getitem__(self, idx):\n",
    "        item=self.data[idx]\n",
    "        input_id, attention_mask, label = item[\"input_ids\"], item[\"attention_mask\"], item[\"label\"]\n",
    "        return np.array(input_id), np.array(attention_mask), label\n",
    "    def __len__(self):\n",
    "        return self.len\n",
    "def create_dataloader(dataset, batch_size=32, shuffle=False):\n",
    "    return torch.utils.data.DataLoader(dataset, batch_size=batch_size, shuffle=shuffle)"
   ]
  },
  {
   "cell_type": "code",
   "execution_count": 17,
   "id": "851b4149",
   "metadata": {},
   "outputs": [],
   "source": [
    "BATCH_SIZE=64"
   ]
  },
  {
   "cell_type": "code",
   "execution_count": 18,
   "id": "f72fb9d7",
   "metadata": {},
   "outputs": [],
   "source": [
    "dataset=CustomDataset(padded_tokens)\n",
    "dataloader=create_dataloader(dataset, batch_size=BATCH_SIZE)"
   ]
  },
  {
   "cell_type": "code",
   "execution_count": 19,
   "id": "e51fbfd7",
   "metadata": {},
   "outputs": [
    {
     "data": {
      "text/plain": [
       "[tensor([[  101,  1037, 18385,  ...,     0,     0,     0],\n",
       "         [  101,  4593,  2128,  ...,     0,     0,     0],\n",
       "         [  101,  2027,  3653,  ...,     0,     0,     0],\n",
       "         ...,\n",
       "         [  101,  1037, 19240,  ...,     0,     0,     0],\n",
       "         [  101,  2009,  1005,  ...,     0,     0,     0],\n",
       "         [  101,  1996,  6919,  ...,     0,     0,     0]]),\n",
       " tensor([[1, 1, 1,  ..., 0, 0, 0],\n",
       "         [1, 1, 1,  ..., 0, 0, 0],\n",
       "         [1, 1, 1,  ..., 0, 0, 0],\n",
       "         ...,\n",
       "         [1, 1, 1,  ..., 0, 0, 0],\n",
       "         [1, 1, 1,  ..., 0, 0, 0],\n",
       "         [1, 1, 1,  ..., 0, 0, 0]]),\n",
       " [tensor([1, 0, 0, 1, 1, 1, 0, 1, 0, 0, 1, 0, 0, 1, 1, 1, 0, 1, 0, 0, 0, 1, 0, 0,\n",
       "          0, 1, 1, 0, 1, 0, 0, 1, 1, 1, 1, 0, 0, 0, 1, 1, 1, 1, 1, 0, 1, 0, 1, 1,\n",
       "          1, 1, 0, 1, 1, 1, 0, 1, 0, 1, 1, 1, 1, 1, 1, 1])]]"
      ]
     },
     "execution_count": 19,
     "metadata": {},
     "output_type": "execute_result"
    }
   ],
   "source": [
    "next(iter(dataloader))"
   ]
  },
  {
   "cell_type": "code",
   "execution_count": 20,
   "id": "fdcf87e9",
   "metadata": {},
   "outputs": [
    {
     "name": "stdout",
     "output_type": "stream",
     "text": [
      "cuda\n"
     ]
    }
   ],
   "source": [
    "device = \"cuda\" if torch.cuda.is_available() else \"cpu\"\n",
    "print(device)"
   ]
  },
  {
   "cell_type": "code",
   "execution_count": 21,
   "id": "b2f4f0bb",
   "metadata": {},
   "outputs": [],
   "source": [
    "model=model.to(device)"
   ]
  },
  {
   "cell_type": "code",
   "execution_count": 22,
   "id": "5b25f6f6",
   "metadata": {},
   "outputs": [],
   "source": [
    "#Embeddings\n",
    "embeddings = []\n",
    "model.eval()\n",
    "with torch.no_grad():\n",
    "    for batch in dataloader:\n",
    "        input_ids, attention_mask, label = batch\n",
    "        input_ids = input_ids.to(device)\n",
    "        attention_mask=attention_mask.to(device)\n",
    "        outputs=model(input_ids, attention_mask=attention_mask)\n",
    "        embeddings.append(outputs)"
   ]
  },
  {
   "cell_type": "code",
   "execution_count": 23,
   "id": "283e2f2c",
   "metadata": {},
   "outputs": [],
   "source": [
    "prepared_embeddings=[]\n",
    "for emb in embeddings:\n",
    "    for x in emb[\"last_hidden_state\"][:,0,:]:\n",
    "        prepared_embeddings.append(x.cpu().numpy())"
   ]
  },
  {
   "cell_type": "code",
   "execution_count": 24,
   "id": "5f18fb38",
   "metadata": {},
   "outputs": [
    {
     "data": {
      "text/plain": [
       "768"
      ]
     },
     "execution_count": 24,
     "metadata": {},
     "output_type": "execute_result"
    }
   ],
   "source": [
    "len(prepared_embeddings[0])"
   ]
  },
  {
   "cell_type": "code",
   "execution_count": 25,
   "id": "6e465b2b",
   "metadata": {},
   "outputs": [],
   "source": [
    "y=df.target.values"
   ]
  },
  {
   "cell_type": "code",
   "execution_count": 26,
   "id": "e6238bb8",
   "metadata": {},
   "outputs": [],
   "source": [
    "X_train, X_test, y_train, y_test = train_test_split(prepared_embeddings, y, stratify=y)"
   ]
  },
  {
   "cell_type": "code",
   "execution_count": 27,
   "id": "8ae5730e",
   "metadata": {},
   "outputs": [],
   "source": [
    "lr=LogisticRegression().fit(X_train, y_train)\n",
    "y_pred=lr.predict(X_test)\n",
    "y_proba=lr.predict_proba(X_test)[:,1]"
   ]
  },
  {
   "cell_type": "code",
   "execution_count": 28,
   "id": "bff23568",
   "metadata": {},
   "outputs": [
    {
     "data": {
      "text/plain": [
       "0.9153156699551186"
      ]
     },
     "execution_count": 28,
     "metadata": {},
     "output_type": "execute_result"
    }
   ],
   "source": [
    "roc_auc_score(y_test, y_proba)"
   ]
  },
  {
   "cell_type": "code",
   "execution_count": 29,
   "id": "c3e08e7c",
   "metadata": {},
   "outputs": [
    {
     "data": {
      "text/plain": [
       "0.8317919075144509"
      ]
     },
     "execution_count": 29,
     "metadata": {},
     "output_type": "execute_result"
    }
   ],
   "source": [
    "accuracy_score(y_test, y_pred)"
   ]
  },
  {
   "cell_type": "code",
   "execution_count": 30,
   "id": "4e645bff",
   "metadata": {},
   "outputs": [
    {
     "data": {
      "text/plain": [
       "array([[709, 119],\n",
       "       [172, 730]])"
      ]
     },
     "execution_count": 30,
     "metadata": {},
     "output_type": "execute_result"
    }
   ],
   "source": [
    "confusion_matrix(y_test, y_pred)"
   ]
  },
  {
   "cell_type": "code",
   "execution_count": 31,
   "id": "607d4665",
   "metadata": {},
   "outputs": [],
   "source": [
    "y_train_proba=lr.predict_proba(X_train)[:,1]"
   ]
  },
  {
   "cell_type": "code",
   "execution_count": 32,
   "id": "4bb435bf",
   "metadata": {},
   "outputs": [
    {
     "data": {
      "text/plain": [
       "0.5213872832369942"
      ]
     },
     "execution_count": 32,
     "metadata": {},
     "output_type": "execute_result"
    }
   ],
   "source": [
    "np.mean(y_test)"
   ]
  },
  {
   "cell_type": "markdown",
   "id": "7c681df1",
   "metadata": {},
   "source": [
    "# Optuna "
   ]
  },
  {
   "cell_type": "markdown",
   "id": "1157ff4b",
   "metadata": {},
   "source": [
    "## Model Class"
   ]
  },
  {
   "cell_type": "code",
   "execution_count": 213,
   "id": "33be24d3",
   "metadata": {},
   "outputs": [],
   "source": [
    "class Classifier(torch.nn.Module):\n",
    "    def __init__(self, n_epochs=10, \n",
    "                 lr=1e-5, dropout=.1, hidden_size=384, \n",
    "                 n_classes=2, device=\"cpu\"):\n",
    "        super().__init__()\n",
    "        self.l1 = torch.nn.Linear(768, n_classes)\n",
    "        self.silu = torch.nn.SiLU()\n",
    "        self.dropout = torch.nn.Dropout(p=dropout)\n",
    "        self.opt = torch.optim.Adam(self.parameters(), lr=lr)\n",
    "        self.device = device\n",
    "        self.criteria = torch.nn.CrossEntropyLoss()\n",
    "        self.epochs = n_epochs\n",
    "        self.to(device)\n",
    "    def forward(self, embeddings):\n",
    "        outputs=self.l1(embeddings)\n",
    "        return outputs\n",
    "    \n",
    "    def train_step(self, train):\n",
    "        for batch in train:\n",
    "            X, y = batch\n",
    "            X = X.to(device)\n",
    "            y = y.to(device)\n",
    "            preds = self(X)\n",
    "            loss=self.criteria(preds, y)\n",
    "            self.opt.zero_grad()\n",
    "            loss.backward()\n",
    "            self.opt.step()\n",
    "    \n",
    "    def fit(self, train):\n",
    "        self.train()\n",
    "        for epoch in range(self.epochs):\n",
    "            self.train_step(train)\n",
    "    \n",
    "    def predict(self, test):\n",
    "        self.eval()\n",
    "        with torch.no_grad():\n",
    "            probas, labels = [], []\n",
    "            softmax = torch.nn.Softmax(dim=-1)\n",
    "            for X in test:\n",
    "                X = torch.FloatTensor(X).to(self.device)\n",
    "                score = self(X)\n",
    "                proba = softmax(score)[1].item()\n",
    "                probas.append(proba)\n",
    "                label = torch.argmax(score).item()\n",
    "                labels.append(label)\n",
    "        return probas"
   ]
  },
  {
   "cell_type": "code",
   "execution_count": 214,
   "id": "96a596f4",
   "metadata": {},
   "outputs": [],
   "source": [
    "nn = Classifier(lr=.003, n_epochs=18, dropout=.42, hidden_size=512, device=device)"
   ]
  },
  {
   "cell_type": "markdown",
   "id": "704f7c57",
   "metadata": {},
   "source": [
    "## Dataloaders"
   ]
  },
  {
   "cell_type": "code",
   "execution_count": 56,
   "id": "171bf716",
   "metadata": {},
   "outputs": [],
   "source": [
    "class ClassifierDataset(torch.utils.data.Dataset):\n",
    "    def __init__(self, embeddings, labels):\n",
    "        self.embeddings = embeddings\n",
    "        self.labels = labels\n",
    "    def __getitem__(self, idx):\n",
    "        return self.embeddings[idx], self.labels[idx]\n",
    "    def __len__(self):\n",
    "        return len(embeddings)\n",
    "\n",
    "def create_dataloader(embeddings, labels=None, batch_size=1):\n",
    "    if labels != None:\n",
    "        dataset = ClassifierDataset(embeddings, labels)\n",
    "        return torch.utils.data.DataLoader(dataset, batch_size=batch_size)\n",
    "    else"
   ]
  },
  {
   "cell_type": "code",
   "execution_count": 198,
   "id": "2cb6c102",
   "metadata": {},
   "outputs": [],
   "source": [
    "train = create_dataloader(X_train, y_train, batch_size=64)"
   ]
  },
  {
   "cell_type": "code",
   "execution_count": 215,
   "id": "c4f71e91",
   "metadata": {},
   "outputs": [],
   "source": [
    "nn.fit(train)"
   ]
  },
  {
   "cell_type": "code",
   "execution_count": 217,
   "id": "6fdbaeea",
   "metadata": {},
   "outputs": [
    {
     "data": {
      "text/plain": [
       "0.8618676157117302"
      ]
     },
     "execution_count": 217,
     "metadata": {},
     "output_type": "execute_result"
    }
   ],
   "source": [
    "pred_p=nn.predict(X_test)\n",
    "roc_auc_score(y_test, pred_p)"
   ]
  },
  {
   "cell_type": "code",
   "execution_count": 113,
   "id": "f71caf6c",
   "metadata": {},
   "outputs": [],
   "source": [
    "def custom_softmax(array):\n",
    "    return np.exp(array)/np.sum(np.exp(array))"
   ]
  },
  {
   "cell_type": "code",
   "execution_count": 167,
   "id": "19c423a2",
   "metadata": {},
   "outputs": [
    {
     "data": {
      "text/plain": [
       "array([0.45321229, 0.54678771])"
      ]
     },
     "execution_count": 167,
     "metadata": {},
     "output_type": "execute_result"
    }
   ],
   "source": [
    "custom_softmax([-0.1375,  0.0502])"
   ]
  },
  {
   "cell_type": "code",
   "execution_count": 218,
   "id": "19da6aa4",
   "metadata": {},
   "outputs": [],
   "source": [
    "\"\"\"\n",
    "Optuna example that optimizes multi-layer perceptrons using PyTorch.\n",
    "\n",
    "In this example, we optimize the validation accuracy of fashion product recognition using\n",
    "PyTorch and FashionMNIST. We optimize the neural network architecture as well as the optimizer\n",
    "configuration. As it is too time consuming to use the whole FashionMNIST dataset,\n",
    "we here use a small subset of it.\n",
    "\n",
    "\"\"\"\n",
    "\n",
    "import os\n",
    "\n",
    "import optuna\n",
    "from optuna.trial import TrialState\n",
    "\n",
    "\n",
    "def objective(trial):\n",
    "    # Generate the model.\n",
    "    device=\"cuda\"\n",
    "\n",
    "    # Generate the optimizers.\n",
    "    #optimizer_name = trial.suggest_categorical(\"optimizer\", [\"Adam\", \"RMSprop\", \"SGD\"])\n",
    "    params={\"lr\" : trial.suggest_float(\"lr\", 1e-5, 1e-1, log=True),\n",
    "            \"n_epochs\" : trial.suggest_int(\"n_epochs\", 5, 100),\n",
    "            \"dropout\" : trial.suggest_float(\"dropout\", 0., .5),\n",
    "            \"device\" : device\n",
    "           }\n",
    "    \n",
    "    model = Classifier(**params)\n",
    "    model.fit(train)\n",
    "    probas = model.predict(X_test)\n",
    "    \n",
    "    #accuracy = accuracy_score(y_test, probas)\n",
    "    roc_score = roc_auc_score(y_test, probas)\n",
    "    \n",
    "    return roc_score"
   ]
  },
  {
   "cell_type": "code",
   "execution_count": null,
   "id": "77b18e7b",
   "metadata": {},
   "outputs": [
    {
     "name": "stderr",
     "output_type": "stream",
     "text": [
      "[I 2023-07-12 01:34:07,160] A new study created in memory with name: no-name-40b133c9-1f60-4f7c-a844-e4d5e5263ea0\n",
      "[I 2023-07-12 01:34:07,487] Trial 0 finished with value: 0.8590390918731322 and parameters: {'lr': 0.07650490100651988, 'n_epochs': 51, 'dropout': 0.3533984877385376}. Best is trial 0 with value: 0.8590390918731322.\n",
      "[I 2023-07-12 01:34:07,719] Trial 1 finished with value: 0.8618957335818418 and parameters: {'lr': 0.00404375318880164, 'n_epochs': 15, 'dropout': 0.23356977044441057}. Best is trial 1 with value: 0.8618957335818418.\n",
      "[I 2023-07-12 01:34:07,967] Trial 2 finished with value: 0.8677670126503636 and parameters: {'lr': 0.013333008418528499, 'n_epochs': 25, 'dropout': 0.44357784810678186}. Best is trial 2 with value: 0.8677670126503636.\n",
      "[I 2023-07-12 01:34:08,194] Trial 3 finished with value: 0.8433111603843311 and parameters: {'lr': 0.004042362587517483, 'n_epochs': 9, 'dropout': 0.3977980799599182}. Best is trial 2 with value: 0.8677670126503636.\n",
      "[I 2023-07-12 01:34:08,456] Trial 4 finished with value: 0.8160020137750785 and parameters: {'lr': 0.00021365802312555725, 'n_epochs': 32, 'dropout': 0.20520384573495998}. Best is trial 2 with value: 0.8677670126503636.\n",
      "[I 2023-07-12 01:34:08,780] Trial 5 finished with value: 0.8642121105005517 and parameters: {'lr': 0.006504339952340866, 'n_epochs': 68, 'dropout': 0.2981958967046702}. Best is trial 2 with value: 0.8677670126503636.\n",
      "[I 2023-07-12 01:34:09,031] Trial 6 finished with value: 0.7858583180693467 and parameters: {'lr': 0.00022606695590824945, 'n_epochs': 20, 'dropout': 0.29491788298195315}. Best is trial 2 with value: 0.8677670126503636.\n",
      "[I 2023-07-12 01:34:09,321] Trial 7 finished with value: 0.8647490279250618 and parameters: {'lr': 0.0008557148197948529, 'n_epochs': 54, 'dropout': 0.35128080148606167}. Best is trial 2 with value: 0.8677670126503636.\n",
      "[I 2023-07-12 01:34:09,660] Trial 8 finished with value: 0.8667400409181958 and parameters: {'lr': 0.004969539112342974, 'n_epochs': 64, 'dropout': 0.3476658659157042}. Best is trial 2 with value: 0.8677670126503636.\n",
      "[I 2023-07-12 01:34:10,037] Trial 9 finished with value: 0.8556093811926262 and parameters: {'lr': 0.04566916499426292, 'n_epochs': 100, 'dropout': 0.4498890235196178}. Best is trial 2 with value: 0.8677670126503636.\n",
      "[I 2023-07-12 01:34:10,319] Trial 10 finished with value: 0.5602733324764078 and parameters: {'lr': 1.9193272126390968e-05, 'n_epochs': 37, 'dropout': 0.49010253408322313}. Best is trial 2 with value: 0.8677670126503636.\n",
      "[I 2023-07-12 01:34:10,672] Trial 11 finished with value: 0.8576097668091305 and parameters: {'lr': 0.0179052932432807, 'n_epochs': 83, 'dropout': 0.00988522732854169}. Best is trial 2 with value: 0.8677670126503636.\n",
      "[I 2023-07-12 01:34:11,001] Trial 12 finished with value: 0.8587492100217444 and parameters: {'lr': 0.017521533076201613, 'n_epochs': 68, 'dropout': 0.4402818579073107}. Best is trial 2 with value: 0.8677670126503636.\n",
      "[I 2023-07-12 01:34:11,286] Trial 13 finished with value: 0.8637729361483338 and parameters: {'lr': 0.0014018830576790293, 'n_epochs': 39, 'dropout': 0.4888401752533229}. Best is trial 2 with value: 0.8677670126503636.\n",
      "[I 2023-07-12 01:34:11,601] Trial 14 finished with value: 0.858895824630183 and parameters: {'lr': 0.08487320133052188, 'n_epochs': 61, 'dropout': 0.405188141360961}. Best is trial 2 with value: 0.8677670126503636.\n",
      "[I 2023-07-12 01:34:11,963] Trial 15 finished with value: 0.8565667277226132 and parameters: {'lr': 0.022536942364814037, 'n_epochs': 81, 'dropout': 0.4983066597602457}. Best is trial 2 with value: 0.8677670126503636.\n",
      "[I 2023-07-12 01:34:12,216] Trial 16 finished with value: 0.86775228424221 and parameters: {'lr': 0.008915268678291075, 'n_epochs': 26, 'dropout': 0.3902471899816813}. Best is trial 2 with value: 0.8677670126503636.\n",
      "[I 2023-07-12 01:34:12,483] Trial 17 finished with value: 0.8666985335861264 and parameters: {'lr': 0.013766710160951375, 'n_epochs': 26, 'dropout': 0.40370490202818354}. Best is trial 2 with value: 0.8677670126503636.\n",
      "[I 2023-07-12 01:34:12,716] Trial 18 finished with value: 0.8314588086592328 and parameters: {'lr': 0.0318020496193511, 'n_epochs': 5, 'dropout': 0.4330610462118492}. Best is trial 2 with value: 0.8677670126503636.\n",
      "[I 2023-07-12 01:34:13,018] Trial 19 finished with value: 0.8563960120826505 and parameters: {'lr': 0.09913428580247724, 'n_epochs': 44, 'dropout': 0.1862875061852876}. Best is trial 2 with value: 0.8677670126503636.\n",
      "[I 2023-07-12 01:34:13,286] Trial 20 finished with value: 0.8682704564199792 and parameters: {'lr': 0.009083490289503391, 'n_epochs': 25, 'dropout': 0.29317018414698226}. Best is trial 20 with value: 0.8682704564199792.\n",
      "[I 2023-07-12 01:34:13,548] Trial 21 finished with value: 0.8678031641976499 and parameters: {'lr': 0.009418003978715637, 'n_epochs': 25, 'dropout': 0.30128407068514323}. Best is trial 20 with value: 0.8682704564199792.\n",
      "[I 2023-07-12 01:34:13,790] Trial 22 finished with value: 0.866319611812719 and parameters: {'lr': 0.03332797962621914, 'n_epochs': 18, 'dropout': 0.28817036258625844}. Best is trial 20 with value: 0.8682704564199792.\n",
      "[I 2023-07-12 01:34:14,063] Trial 23 finished with value: 0.8690202662896195 and parameters: {'lr': 0.008636987771882945, 'n_epochs': 29, 'dropout': 0.2542380439222715}. Best is trial 23 with value: 0.8690202662896195.\n",
      "[I 2023-07-12 01:34:14,331] Trial 24 finished with value: 0.8664334222393606 and parameters: {'lr': 0.002326081348393445, 'n_epochs': 31, 'dropout': 0.24236428350741912}. Best is trial 23 with value: 0.8690202662896195.\n",
      "[I 2023-07-12 01:34:14,565] Trial 25 finished with value: 0.8621862849063273 and parameters: {'lr': 0.007924896141998145, 'n_epochs': 12, 'dropout': 0.1900999726826093}. Best is trial 23 with value: 0.8690202662896195.\n",
      "[I 2023-07-12 01:34:14,872] Trial 26 finished with value: 0.8589634414130705 and parameters: {'lr': 0.04314246913006726, 'n_epochs': 46, 'dropout': 0.27961649776081376}. Best is trial 23 with value: 0.8690202662896195.\n",
      "[I 2023-07-12 01:34:15,153] Trial 27 finished with value: 0.866062534143128 and parameters: {'lr': 0.009734520290584307, 'n_epochs': 36, 'dropout': 0.14589911941071979}. Best is trial 23 with value: 0.8690202662896195.\n",
      "[I 2023-07-12 01:34:15,416] Trial 28 finished with value: 0.8648534657283331 and parameters: {'lr': 0.002858173002027742, 'n_epochs': 20, 'dropout': 0.3284567031603291}. Best is trial 23 with value: 0.8690202662896195.\n",
      "[I 2023-07-12 01:34:15,731] Trial 29 finished with value: 0.8592760853497863 and parameters: {'lr': 0.05074008368108791, 'n_epochs': 53, 'dropout': 0.3189641463519965}. Best is trial 23 with value: 0.8690202662896195.\n",
      "[I 2023-07-12 01:34:16,027] Trial 30 finished with value: 0.8602207118909133 and parameters: {'lr': 0.025173070404911495, 'n_epochs': 43, 'dropout': 0.2532689030539596}. Best is trial 23 with value: 0.8690202662896195.\n",
      "[I 2023-07-12 01:34:16,303] Trial 31 finished with value: 0.8671618089698683 and parameters: {'lr': 0.018270383678660428, 'n_epochs': 24, 'dropout': 0.3743303553622758}. Best is trial 23 with value: 0.8690202662896195.\n",
      "[I 2023-07-12 01:34:16,572] Trial 32 finished with value: 0.8673599730068446 and parameters: {'lr': 0.009237699808014388, 'n_epochs': 30, 'dropout': 0.3330213374847102}. Best is trial 23 with value: 0.8690202662896195.\n",
      "[I 2023-07-12 01:34:16,818] Trial 33 finished with value: 0.865968807909423 and parameters: {'lr': 0.012596843379486126, 'n_epochs': 14, 'dropout': 0.37247836827698483}. Best is trial 23 with value: 0.8690202662896195.\n",
      "[I 2023-07-12 01:34:17,048] Trial 34 finished with value: 0.8282828282828283 and parameters: {'lr': 0.00348481631388831, 'n_epochs': 5, 'dropout': 0.2767466168124864}. Best is trial 23 with value: 0.8690202662896195.\n",
      "[I 2023-07-12 01:34:17,307] Trial 35 finished with value: 0.8682985742900908 and parameters: {'lr': 0.0063887814610460985, 'n_epochs': 24, 'dropout': 0.32467197395168584}. Best is trial 23 with value: 0.8690202662896195.\n",
      "[I 2023-07-12 01:34:17,551] Trial 36 finished with value: 0.8666289083839454 and parameters: {'lr': 0.0066161907574123595, 'n_epochs': 17, 'dropout': 0.25572235858263404}. Best is trial 23 with value: 0.8690202662896195.\n",
      "[I 2023-07-12 01:34:17,814] Trial 37 finished with value: 0.8662232076866223 and parameters: {'lr': 0.006147234903488098, 'n_epochs': 33, 'dropout': 0.31553896667679104}. Best is trial 23 with value: 0.8690202662896195.\n"
     ]
    },
    {
     "name": "stderr",
     "output_type": "stream",
     "text": [
      "[I 2023-07-12 01:34:18,065] Trial 38 finished with value: 0.8501163544244138 and parameters: {'lr': 0.004593679528619753, 'n_epochs': 11, 'dropout': 0.22369439728860607}. Best is trial 23 with value: 0.8690202662896195.\n",
      "[I 2023-07-12 01:34:18,320] Trial 39 finished with value: 0.8570929335775572 and parameters: {'lr': 0.002111210734386336, 'n_epochs': 23, 'dropout': 0.3099994595892068}. Best is trial 23 with value: 0.8690202662896195.\n",
      "[I 2023-07-12 01:34:18,587] Trial 40 finished with value: 0.8696730025600652 and parameters: {'lr': 0.004569165368533334, 'n_epochs': 28, 'dropout': 0.27072695587712137}. Best is trial 40 with value: 0.8696730025600652.\n",
      "[I 2023-07-12 01:34:18,870] Trial 41 finished with value: 0.8702226399734354 and parameters: {'lr': 0.004511082702786542, 'n_epochs': 27, 'dropout': 0.277152468240702}. Best is trial 41 with value: 0.8702226399734354.\n",
      "[I 2023-07-12 01:34:19,152] Trial 42 finished with value: 0.8681325449618132 and parameters: {'lr': 0.004028965134050575, 'n_epochs': 30, 'dropout': 0.2645798593672982}. Best is trial 41 with value: 0.8702226399734354.\n",
      "[I 2023-07-12 01:34:19,450] Trial 43 finished with value: 0.8680495302976745 and parameters: {'lr': 0.004868806232852459, 'n_epochs': 40, 'dropout': 0.34261575570398406}. Best is trial 41 with value: 0.8702226399734354.\n",
      "[I 2023-07-12 01:34:19,728] Trial 44 finished with value: 0.8646820806152725 and parameters: {'lr': 0.001613735007000539, 'n_epochs': 35, 'dropout': 0.27374788769272235}. Best is trial 41 with value: 0.8702226399734354.\n",
      "[I 2023-07-12 01:34:20,026] Trial 45 finished with value: 0.8686708013325194 and parameters: {'lr': 0.0029033506618701393, 'n_epochs': 49, 'dropout': 0.22452589869125716}. Best is trial 41 with value: 0.8702226399734354.\n",
      "[I 2023-07-12 01:34:20,317] Trial 46 finished with value: 0.8588482920402326 and parameters: {'lr': 0.0007152800474438289, 'n_epochs': 48, 'dropout': 0.21942175823238547}. Best is trial 41 with value: 0.8702226399734354.\n",
      "[I 2023-07-12 01:34:20,624] Trial 47 finished with value: 0.8676665916856797 and parameters: {'lr': 0.002711563398084155, 'n_epochs': 61, 'dropout': 0.24581975114713672}. Best is trial 41 with value: 0.8702226399734354.\n",
      "[I 2023-07-12 01:34:20,974] Trial 48 finished with value: 0.8659447068778987 and parameters: {'lr': 0.0011503704509403553, 'n_epochs': 77, 'dropout': 0.20919921924201973}. Best is trial 41 with value: 0.8702226399734354.\n",
      "[I 2023-07-12 01:34:21,282] Trial 49 finished with value: 0.8681191554998554 and parameters: {'lr': 0.004232428581941671, 'n_epochs': 56, 'dropout': 0.2379985309819578}. Best is trial 41 with value: 0.8702226399734354.\n",
      "[I 2023-07-12 01:34:21,582] Trial 50 finished with value: 0.8664334222393608 and parameters: {'lr': 0.006114612932704362, 'n_epochs': 49, 'dropout': 0.264944305346828}. Best is trial 41 with value: 0.8702226399734354.\n",
      "[I 2023-07-12 01:34:21,855] Trial 51 finished with value: 0.8687015970950223 and parameters: {'lr': 0.012734960042605412, 'n_epochs': 20, 'dropout': 0.28851092001194645}. Best is trial 41 with value: 0.8702226399734354.\n",
      "[I 2023-07-12 01:34:22,125] Trial 52 finished with value: 0.8677415726726437 and parameters: {'lr': 0.01357603122282348, 'n_epochs': 20, 'dropout': 0.3031259464489006}. Best is trial 41 with value: 0.8702226399734354.\n",
      "[I 2023-07-12 01:34:22,400] Trial 53 finished with value: 0.8689720642265711 and parameters: {'lr': 0.0036680169615540214, 'n_epochs': 29, 'dropout': 0.28566265534142915}. Best is trial 41 with value: 0.8702226399734354.\n",
      "[I 2023-07-12 01:34:22,669] Trial 54 finished with value: 0.8648333815353965 and parameters: {'lr': 0.002483477264986804, 'n_epochs': 29, 'dropout': 0.28301521075878966}. Best is trial 41 with value: 0.8702226399734354.\n",
      "[I 2023-07-12 01:34:22,956] Trial 55 finished with value: 0.8616828411367118 and parameters: {'lr': 0.0017105647561180709, 'n_epochs': 35, 'dropout': 0.22414403178361847}. Best is trial 41 with value: 0.8702226399734354.\n",
      "[I 2023-07-12 01:34:23,267] Trial 56 finished with value: 0.8687872896515526 and parameters: {'lr': 0.0035619571112309907, 'n_epochs': 38, 'dropout': 0.25892184520011724}. Best is trial 41 with value: 0.8702226399734354.\n",
      "[I 2023-07-12 01:34:23,541] Trial 57 finished with value: 0.8642308557472925 and parameters: {'lr': 0.012678133494382921, 'n_epochs': 39, 'dropout': 0.2930710969963766}. Best is trial 41 with value: 0.8702226399734354.\n",
      "[I 2023-07-12 01:34:23,778] Trial 58 finished with value: 0.8630258041710852 and parameters: {'lr': 0.0036681573443976445, 'n_epochs': 16, 'dropout': 0.26066435725062703}. Best is trial 41 with value: 0.8702226399734354.\n",
      "[I 2023-07-12 01:34:24,020] Trial 59 finished with value: 0.8683507931917264 and parameters: {'lr': 0.005922430404629589, 'n_epochs': 21, 'dropout': 0.35352919139364003}. Best is trial 41 with value: 0.8702226399734354.\n",
      "[I 2023-07-12 01:34:24,304] Trial 60 finished with value: 0.8627539980933405 and parameters: {'lr': 0.018829148006688126, 'n_epochs': 42, 'dropout': 0.3071272154834108}. Best is trial 41 with value: 0.8702226399734354.\n",
      "[I 2023-07-12 01:34:24,692] Trial 61 finished with value: 0.8647517058174534 and parameters: {'lr': 0.003488966820981966, 'n_epochs': 97, 'dropout': 0.2388787440543991}. Best is trial 41 with value: 0.8702226399734354.\n",
      "[I 2023-07-12 01:34:24,966] Trial 62 finished with value: 0.8679698629990251 and parameters: {'lr': 0.0030318964770510988, 'n_epochs': 28, 'dropout': 0.27484852529317594}. Best is trial 41 with value: 0.8702226399734354.\n",
      "[I 2023-07-12 01:34:25,264] Trial 63 finished with value: 0.8689975042042912 and parameters: {'lr': 0.005043223313844777, 'n_epochs': 38, 'dropout': 0.25184459924147007}. Best is trial 41 with value: 0.8702226399734354.\n",
      "[I 2023-07-12 01:34:25,545] Trial 64 finished with value: 0.8663945927996829 and parameters: {'lr': 0.010681759463172928, 'n_epochs': 34, 'dropout': 0.2522177937535452}. Best is trial 41 with value: 0.8702226399734354.\n",
      "[I 2023-07-12 01:34:25,820] Trial 65 finished with value: 0.866488319033388 and parameters: {'lr': 0.008106858310164514, 'n_epochs': 38, 'dropout': 0.2952133311041531}. Best is trial 41 with value: 0.8702226399734354.\n",
      "[I 2023-07-12 01:34:26,092] Trial 66 finished with value: 0.8688582537999294 and parameters: {'lr': 0.005147004010392198, 'n_epochs': 32, 'dropout': 0.28793469091291635}. Best is trial 41 with value: 0.8702226399734354.\n",
      "[I 2023-07-12 01:34:26,359] Trial 67 finished with value: 0.8696107415619609 and parameters: {'lr': 0.005086096329016591, 'n_epochs': 27, 'dropout': 0.27216187262639935}. Best is trial 41 with value: 0.8702226399734354.\n",
      "[I 2023-07-12 01:34:26,618] Trial 68 finished with value: 0.8610883490257828 and parameters: {'lr': 0.002066529298702014, 'n_epochs': 28, 'dropout': 0.27034820442848995}. Best is trial 41 with value: 0.8702226399734354.\n",
      "[I 2023-07-12 01:34:26,890] Trial 69 finished with value: 0.8690216052358152 and parameters: {'lr': 0.00493162480263518, 'n_epochs': 33, 'dropout': 0.24086547261822142}. Best is trial 41 with value: 0.8702226399734354.\n",
      "[I 2023-07-12 01:34:27,153] Trial 70 finished with value: 0.8695210321668434 and parameters: {'lr': 0.006990602272337152, 'n_epochs': 27, 'dropout': 0.20723130742837056}. Best is trial 41 with value: 0.8702226399734354.\n",
      "[I 2023-07-12 01:34:27,419] Trial 71 finished with value: 0.8685436014439196 and parameters: {'lr': 0.007817329547046344, 'n_epochs': 26, 'dropout': 0.19340274584292622}. Best is trial 41 with value: 0.8702226399734354.\n",
      "[I 2023-07-12 01:34:27,696] Trial 72 finished with value: 0.8680830039525691 and parameters: {'lr': 0.004982368783822145, 'n_epochs': 27, 'dropout': 0.23467026240962813}. Best is trial 41 with value: 0.8702226399734354.\n",
      "[I 2023-07-12 01:34:27,978] Trial 73 finished with value: 0.867595627537303 and parameters: {'lr': 0.007926136076953298, 'n_epochs': 32, 'dropout': 0.2093032175919713}. Best is trial 41 with value: 0.8702226399734354.\n",
      "[I 2023-07-12 01:34:28,247] Trial 74 finished with value: 0.8701235579549471 and parameters: {'lr': 0.010363893398811311, 'n_epochs': 22, 'dropout': 0.2451593808146068}. Best is trial 41 with value: 0.8702226399734354.\n",
      "[I 2023-07-12 01:34:28,510] Trial 75 finished with value: 0.86857841404501 and parameters: {'lr': 0.016270848665736498, 'n_epochs': 22, 'dropout': 0.24521577944246017}. Best is trial 41 with value: 0.8702226399734354.\n"
     ]
    },
    {
     "name": "stderr",
     "output_type": "stream",
     "text": [
      "[I 2023-07-12 01:34:28,748] Trial 76 finished with value: 0.8666945167475391 and parameters: {'lr': 0.010475249641744167, 'n_epochs': 13, 'dropout': 0.17326686904355845}. Best is trial 41 with value: 0.8702226399734354.\n",
      "[I 2023-07-12 01:34:28,986] Trial 77 finished with value: 0.8608393050333666 and parameters: {'lr': 0.023759768067746496, 'n_epochs': 8, 'dropout': 0.24925856950165187}. Best is trial 41 with value: 0.8702226399734354.\n",
      "[I 2023-07-12 01:34:29,241] Trial 78 finished with value: 0.8687805949205738 and parameters: {'lr': 0.006605296309659923, 'n_epochs': 23, 'dropout': 0.23714231991701681}. Best is trial 41 with value: 0.8702226399734354.\n",
      "[I 2023-07-12 01:34:29,495] Trial 79 finished with value: 0.8663852201763125 and parameters: {'lr': 0.004824905289154087, 'n_epochs': 19, 'dropout': 0.2639042755588747}. Best is trial 41 with value: 0.8702226399734354.\n",
      "[I 2023-07-12 01:34:29,743] Trial 80 finished with value: 0.8663771864991379 and parameters: {'lr': 0.010396496442004206, 'n_epochs': 15, 'dropout': 0.2183296771878799}. Best is trial 41 with value: 0.8702226399734354.\n",
      "[I 2023-07-12 01:34:30,015] Trial 81 finished with value: 0.869310817614105 and parameters: {'lr': 0.00411544713057707, 'n_epochs': 30, 'dropout': 0.27747020942119843}. Best is trial 41 with value: 0.8702226399734354.\n",
      "[I 2023-07-12 01:34:30,305] Trial 82 finished with value: 0.8660558394121491 and parameters: {'lr': 0.007042881933563737, 'n_epochs': 41, 'dropout': 0.2763642155201349}. Best is trial 41 with value: 0.8702226399734354.\n",
      "[I 2023-07-12 01:34:30,585] Trial 83 finished with value: 0.8698905813168804 and parameters: {'lr': 0.005070632552423235, 'n_epochs': 32, 'dropout': 0.25723279692639467}. Best is trial 41 with value: 0.8702226399734354.\n",
      "[I 2023-07-12 01:34:30,854] Trial 84 finished with value: 0.869980290711998 and parameters: {'lr': 0.008166417811033269, 'n_epochs': 25, 'dropout': 0.2297639939280143}. Best is trial 41 with value: 0.8702226399734354.\n",
      "[I 2023-07-12 01:34:31,126] Trial 85 finished with value: 0.8689118116477605 and parameters: {'lr': 0.005701854158224046, 'n_epochs': 25, 'dropout': 0.23009425482168983}. Best is trial 41 with value: 0.8702226399734354.\n",
      "[I 2023-07-12 01:34:31,410] Trial 86 finished with value: 0.8695022869201025 and parameters: {'lr': 0.0042814958070170935, 'n_epochs': 32, 'dropout': 0.20424943003772306}. Best is trial 41 with value: 0.8702226399734354.\n",
      "[I 2023-07-12 01:34:31,650] Trial 87 finished with value: 0.8623416026650385 and parameters: {'lr': 0.0030333356276916923, 'n_epochs': 18, 'dropout': 0.19795273480783382}. Best is trial 41 with value: 0.8702226399734354.\n",
      "[I 2023-07-12 01:34:31,956] Trial 88 finished with value: 0.868190119648232 and parameters: {'lr': 0.00404690896666918, 'n_epochs': 45, 'dropout': 0.1797587145911478}. Best is trial 41 with value: 0.8702226399734354.\n",
      "[I 2023-07-12 01:34:32,230] Trial 89 finished with value: 0.867508596034577 and parameters: {'lr': 0.007372652487729036, 'n_epochs': 31, 'dropout': 0.21155846090703034}. Best is trial 41 with value: 0.8702226399734354.\n",
      "[I 2023-07-12 01:34:32,518] Trial 90 finished with value: 0.8697058067418619 and parameters: {'lr': 0.00221113279399128, 'n_epochs': 36, 'dropout': 0.19838602935196967}. Best is trial 41 with value: 0.8702226399734354.\n",
      "[I 2023-07-12 01:34:32,802] Trial 91 finished with value: 0.8688970832396071 and parameters: {'lr': 0.0024533585268774207, 'n_epochs': 36, 'dropout': 0.20287967347908692}. Best is trial 41 with value: 0.8702226399734354.\n",
      "[I 2023-07-12 01:34:33,066] Trial 92 finished with value: 0.8611780584209003 and parameters: {'lr': 0.0019938549222438505, 'n_epochs': 26, 'dropout': 0.22911767303171446}. Best is trial 41 with value: 0.8702226399734354.\n",
      "[I 2023-07-12 01:34:33,327] Trial 93 finished with value: 0.8682624227428046 and parameters: {'lr': 0.00434371284240272, 'n_epochs': 23, 'dropout': 0.17091917136993784}. Best is trial 41 with value: 0.8702226399734354.\n",
      "[I 2023-07-12 01:34:33,606] Trial 94 finished with value: 0.8689252011097186 and parameters: {'lr': 0.006074859192975301, 'n_epochs': 30, 'dropout': 0.2158820567974498}. Best is trial 41 with value: 0.8702226399734354.\n",
      "[I 2023-07-12 01:34:33,894] Trial 95 finished with value: 0.8659366732007241 and parameters: {'lr': 0.008678981686961445, 'n_epochs': 34, 'dropout': 0.19940897179301037}. Best is trial 41 with value: 0.8702226399734354.\n",
      "[I 2023-07-12 01:34:34,164] Trial 96 finished with value: 0.8654198399691505 and parameters: {'lr': 0.00274458781767348, 'n_epochs': 25, 'dropout': 0.2721339294018915}. Best is trial 41 with value: 0.8702226399734354.\n",
      "[I 2023-07-12 01:34:34,434] Trial 97 finished with value: 0.866675771500798 and parameters: {'lr': 0.0033070729830811493, 'n_epochs': 28, 'dropout': 0.25923160908088944}. Best is trial 41 with value: 0.8702226399734354.\n",
      "[I 2023-07-12 01:34:34,705] Trial 98 finished with value: 0.8651025097207494 and parameters: {'lr': 0.010459950925091756, 'n_epochs': 36, 'dropout': 0.2999055350732629}. Best is trial 41 with value: 0.8702226399734354.\n",
      "[I 2023-07-12 01:34:34,955] Trial 99 finished with value: 0.8668739355377744 and parameters: {'lr': 0.004216430632097398, 'n_epochs': 22, 'dropout': 0.2284839523378661}. Best is trial 41 with value: 0.8702226399734354.\n",
      "[I 2023-07-12 01:34:35,225] Trial 100 finished with value: 0.8694326617179217 and parameters: {'lr': 0.0070252874514957755, 'n_epochs': 31, 'dropout': 0.31892943314901306}. Best is trial 41 with value: 0.8702226399734354.\n",
      "[I 2023-07-12 01:34:35,494] Trial 101 finished with value: 0.8694112385787889 and parameters: {'lr': 0.00709325052739914, 'n_epochs': 30, 'dropout': 0.319511542108363}. Best is trial 41 with value: 0.8702226399734354.\n",
      "[I 2023-07-12 01:34:35,764] Trial 102 finished with value: 0.8670975395524707 and parameters: {'lr': 0.0069501917136637215, 'n_epochs': 32, 'dropout': 0.3220708804729718}. Best is trial 41 with value: 0.8702226399734354.\n",
      "[I 2023-07-12 01:34:36,022] Trial 103 finished with value: 0.8690363336439688 and parameters: {'lr': 0.0055032839297432, 'n_epochs': 27, 'dropout': 0.3101239388972111}. Best is trial 41 with value: 0.8702226399734354.\n",
      "[I 2023-07-12 01:34:36,283] Trial 104 finished with value: 0.8658724037833264 and parameters: {'lr': 0.01528441260087231, 'n_epochs': 24, 'dropout': 0.33596768406709243}. Best is trial 41 with value: 0.8702226399734354.\n",
      "[I 2023-07-12 01:34:36,540] Trial 105 finished with value: 0.8693402744304124 and parameters: {'lr': 0.008857934028368993, 'n_epochs': 17, 'dropout': 0.31288688233359907}. Best is trial 41 with value: 0.8702226399734354.\n",
      "[I 2023-07-12 01:34:36,801] Trial 106 finished with value: 0.8699361054875371 and parameters: {'lr': 0.013795840527501898, 'n_epochs': 20, 'dropout': 0.3002371937842912}. Best is trial 41 with value: 0.8702226399734354.\n",
      "[I 2023-07-12 01:34:37,087] Trial 107 finished with value: 0.8683052690210696 and parameters: {'lr': 0.0128234473136754, 'n_epochs': 21, 'dropout': 0.3010211661500529}. Best is trial 41 with value: 0.8702226399734354.\n",
      "[I 2023-07-12 01:34:37,348] Trial 108 finished with value: 0.8638197992651863 and parameters: {'lr': 0.011394091270281714, 'n_epochs': 11, 'dropout': 0.2879919481610178}. Best is trial 41 with value: 0.8702226399734354.\n",
      "[I 2023-07-12 01:34:37,614] Trial 109 finished with value: 0.8649016677913814 and parameters: {'lr': 0.020485231859125486, 'n_epochs': 27, 'dropout': 0.264842088299169}. Best is trial 41 with value: 0.8702226399734354.\n",
      "[I 2023-07-12 01:34:37,873] Trial 110 finished with value: 0.8682557280118256 and parameters: {'lr': 0.01432081645678006, 'n_epochs': 19, 'dropout': 0.2480352110057512}. Best is trial 41 with value: 0.8702226399734354.\n",
      "[I 2023-07-12 01:34:38,163] Trial 111 finished with value: 0.8687752391357907 and parameters: {'lr': 0.0069106323918282225, 'n_epochs': 31, 'dropout': 0.3218712226210194}. Best is trial 41 with value: 0.8702226399734354.\n",
      "[I 2023-07-12 01:34:38,452] Trial 112 finished with value: 0.867244154160909 and parameters: {'lr': 0.008950330629284882, 'n_epochs': 33, 'dropout': 0.2829124859935686}. Best is trial 41 with value: 0.8702226399734354.\n",
      "[I 2023-07-12 01:34:38,735] Trial 113 finished with value: 0.8690765020298423 and parameters: {'lr': 0.005903574368349855, 'n_epochs': 29, 'dropout': 0.29986169534706897}. Best is trial 41 with value: 0.8702226399734354.\n"
     ]
    },
    {
     "name": "stderr",
     "output_type": "stream",
     "text": [
      "[I 2023-07-12 01:34:38,998] Trial 114 finished with value: 0.8676920316633997 and parameters: {'lr': 0.0033777026158309607, 'n_epochs': 23, 'dropout': 0.2204013246023164}. Best is trial 41 with value: 0.8702226399734354.\n",
      "[I 2023-07-12 01:34:39,292] Trial 115 finished with value: 0.8656153261137354 and parameters: {'lr': 0.01122207165585638, 'n_epochs': 35, 'dropout': 0.26888132734075465}. Best is trial 41 with value: 0.8702226399734354.\n",
      "[I 2023-07-12 01:34:39,554] Trial 116 finished with value: 0.8683400816221601 and parameters: {'lr': 0.007770899427294707, 'n_epochs': 25, 'dropout': 0.25647421821864946}. Best is trial 41 with value: 0.8702226399734354.\n",
      "[I 2023-07-12 01:34:39,862] Trial 117 finished with value: 0.8636457362597343 and parameters: {'lr': 0.01581885104070469, 'n_epochs': 40, 'dropout': 0.23631642669226494}. Best is trial 41 with value: 0.8702226399734354.\n",
      "[I 2023-07-12 01:34:40,136] Trial 118 finished with value: 0.8686373276776246 and parameters: {'lr': 0.005327039603662906, 'n_epochs': 21, 'dropout': 0.3310373250120097}. Best is trial 41 with value: 0.8702226399734354.\n",
      "[I 2023-07-12 01:34:40,423] Trial 119 finished with value: 0.8694152554173763 and parameters: {'lr': 0.004670621765289673, 'n_epochs': 28, 'dropout': 0.18591228745471722}. Best is trial 41 with value: 0.8702226399734354.\n",
      "[I 2023-07-12 01:34:40,683] Trial 120 finished with value: 0.8549050954936428 and parameters: {'lr': 0.0025138744420932038, 'n_epochs': 16, 'dropout': 0.18612002708951864}. Best is trial 41 with value: 0.8702226399734354.\n",
      "[I 2023-07-12 01:34:40,950] Trial 121 finished with value: 0.8691675503711559 and parameters: {'lr': 0.004807425146348109, 'n_epochs': 28, 'dropout': 0.21135185657747954}. Best is trial 41 with value: 0.8702226399734354.\n",
      "[I 2023-07-12 01:34:41,228] Trial 122 finished with value: 0.8685436014439196 and parameters: {'lr': 0.003724737753881566, 'n_epochs': 30, 'dropout': 0.2042160870183526}. Best is trial 41 with value: 0.8702226399734354.\n",
      "[I 2023-07-12 01:34:41,492] Trial 123 finished with value: 0.8674229034780467 and parameters: {'lr': 0.009492802858602998, 'n_epochs': 26, 'dropout': 0.18854117692919053}. Best is trial 41 with value: 0.8702226399734354.\n",
      "[I 2023-07-12 01:34:41,767] Trial 124 finished with value: 0.8679263472476623 and parameters: {'lr': 0.006624001838462648, 'n_epochs': 33, 'dropout': 0.29093946460007464}. Best is trial 41 with value: 0.8702226399734354.\n",
      "[I 2023-07-12 01:34:42,026] Trial 125 finished with value: 0.8681004102531145 and parameters: {'lr': 0.004202246190930989, 'n_epochs': 24, 'dropout': 0.312333994731821}. Best is trial 41 with value: 0.8702226399734354.\n",
      "[I 2023-07-12 01:34:42,291] Trial 126 finished with value: 0.8686868686868687 and parameters: {'lr': 0.005705497228517475, 'n_epochs': 28, 'dropout': 0.24852245540309298}. Best is trial 41 with value: 0.8702226399734354.\n",
      "[I 2023-07-12 01:34:42,572] Trial 127 finished with value: 0.8680133787503883 and parameters: {'lr': 0.007573491086179923, 'n_epochs': 32, 'dropout': 0.1556684693850122}. Best is trial 41 with value: 0.8702226399734354.\n",
      "[I 2023-07-12 01:34:42,864] Trial 128 finished with value: 0.8680856818449608 and parameters: {'lr': 0.0046481457708544924, 'n_epochs': 36, 'dropout': 0.22296589118016774}. Best is trial 41 with value: 0.8702226399734354.\n",
      "[I 2023-07-12 01:34:43,163] Trial 129 finished with value: 0.8680388187281081 and parameters: {'lr': 0.009159989057998136, 'n_epochs': 30, 'dropout': 0.19749446111339033}. Best is trial 41 with value: 0.8702226399734354.\n",
      "[I 2023-07-12 01:34:43,431] Trial 130 finished with value: 0.8591642833424381 and parameters: {'lr': 0.002960728110879811, 'n_epochs': 19, 'dropout': 0.27902744155659964}. Best is trial 41 with value: 0.8702226399734354.\n",
      "[I 2023-07-12 01:34:43,676] Trial 131 finished with value: 0.8685797529912058 and parameters: {'lr': 0.008447856587394956, 'n_epochs': 17, 'dropout': 0.31557113108402884}. Best is trial 41 with value: 0.8702226399734354.\n",
      "[I 2023-07-12 01:34:43,935] Trial 132 finished with value: 0.868741765480896 and parameters: {'lr': 0.013505781916904196, 'n_epochs': 22, 'dropout': 0.31101691360585526}. Best is trial 41 with value: 0.8702226399734354.\n",
      "[I 2023-07-12 01:34:44,201] Trial 133 finished with value: 0.8685757361526184 and parameters: {'lr': 0.01199754904208782, 'n_epochs': 26, 'dropout': 0.3366942890851863}. Best is trial 41 with value: 0.8702226399734354.\n",
      "[I 2023-07-12 01:34:44,451] Trial 134 finished with value: 0.8646874364000556 and parameters: {'lr': 0.006243745462511126, 'n_epochs': 14, 'dropout': 0.3014483385418467}. Best is trial 41 with value: 0.8702226399734354.\n",
      "[I 2023-07-12 01:34:44,683] Trial 135 finished with value: 0.8586849406043469 and parameters: {'lr': 0.009727055238947202, 'n_epochs': 9, 'dropout': 0.34873588668918143}. Best is trial 41 with value: 0.8702226399734354.\n",
      "[I 2023-07-12 01:34:45,019] Trial 136 finished with value: 0.858251122036912 and parameters: {'lr': 0.017553382505681375, 'n_epochs': 74, 'dropout': 0.3261852875399642}. Best is trial 41 with value: 0.8702226399734354.\n",
      "[I 2023-07-12 01:34:45,279] Trial 137 finished with value: 0.8686239382156669 and parameters: {'lr': 0.007529120011683895, 'n_epochs': 17, 'dropout': 0.23913138446675025}. Best is trial 41 with value: 0.8702226399734354.\n",
      "[I 2023-07-12 01:34:45,543] Trial 138 finished with value: 0.8652123033088039 and parameters: {'lr': 0.0036689026389378023, 'n_epochs': 20, 'dropout': 0.2921315053655221}. Best is trial 41 with value: 0.8702226399734354.\n",
      "[I 2023-07-12 01:34:45,823] Trial 139 finished with value: 0.8675427391625694 and parameters: {'lr': 0.00517448854013589, 'n_epochs': 24, 'dropout': 0.2112641657110161}. Best is trial 41 with value: 0.8702226399734354.\n",
      "[I 2023-07-12 01:34:46,112] Trial 140 finished with value: 0.8685248561971786 and parameters: {'lr': 0.006683468257759829, 'n_epochs': 34, 'dropout': 0.2664506333494608}. Best is trial 41 with value: 0.8702226399734354.\n",
      "[I 2023-07-12 01:34:46,394] Trial 141 finished with value: 0.868847542230363 and parameters: {'lr': 0.004431140467468131, 'n_epochs': 30, 'dropout': 0.2802853047174999}. Best is trial 41 with value: 0.8702226399734354.\n",
      "[I 2023-07-12 01:34:46,657] Trial 142 finished with value: 0.8671243184763864 and parameters: {'lr': 0.003674232767289683, 'n_epochs': 27, 'dropout': 0.2744232737236913}. Best is trial 41 with value: 0.8702226399734354.\n",
      "[I 2023-07-12 01:34:46,931] Trial 143 finished with value: 0.869322868129867 and parameters: {'lr': 0.0031448626061774576, 'n_epochs': 31, 'dropout': 0.25552773533004663}. Best is trial 41 with value: 0.8702226399734354.\n",
      "[I 2023-07-12 01:34:47,222] Trial 144 finished with value: 0.8691635335325685 and parameters: {'lr': 0.00219671040268536, 'n_epochs': 38, 'dropout': 0.25437081802429}. Best is trial 41 with value: 0.8702226399734354.\n",
      "[I 2023-07-12 01:34:47,494] Trial 145 finished with value: 0.8669033923540816 and parameters: {'lr': 0.002956404542372827, 'n_epochs': 32, 'dropout': 0.2340251216784598}. Best is trial 41 with value: 0.8702226399734354.\n",
      "[I 2023-07-12 01:34:47,862] Trial 146 finished with value: 0.8626241203123495 and parameters: {'lr': 0.005294612114997749, 'n_epochs': 92, 'dropout': 0.24475948409983422}. Best is trial 41 with value: 0.8702226399734354.\n",
      "[I 2023-07-12 01:34:48,143] Trial 147 finished with value: 0.8615395738937627 and parameters: {'lr': 0.0014568030506079393, 'n_epochs': 29, 'dropout': 0.2574117323912887}. Best is trial 41 with value: 0.8702226399734354.\n",
      "[I 2023-07-12 01:34:48,407] Trial 148 finished with value: 0.8668659018605998 and parameters: {'lr': 0.011221945654617054, 'n_epochs': 22, 'dropout': 0.2201426413154469}. Best is trial 41 with value: 0.8702226399734354.\n",
      "[I 2023-07-12 01:34:48,743] Trial 149 finished with value: 0.8636323467977763 and parameters: {'lr': 0.008675450136740736, 'n_epochs': 55, 'dropout': 0.2942967654143053}. Best is trial 41 with value: 0.8702226399734354.\n",
      "[I 2023-07-12 01:34:49,035] Trial 150 finished with value: 0.866055839412149 and parameters: {'lr': 0.0032083968502555744, 'n_epochs': 26, 'dropout': 0.31927111295078303}. Best is trial 41 with value: 0.8702226399734354.\n",
      "[I 2023-07-12 01:34:49,328] Trial 151 finished with value: 0.867534036012297 and parameters: {'lr': 0.0039021962427448716, 'n_epochs': 31, 'dropout': 0.2805136920697029}. Best is trial 41 with value: 0.8702226399734354.\n"
     ]
    },
    {
     "name": "stderr",
     "output_type": "stream",
     "text": [
      "[I 2023-07-12 01:34:49,608] Trial 152 finished with value: 0.8683240142678107 and parameters: {'lr': 0.004249308733063089, 'n_epochs': 28, 'dropout': 0.26774011094744393}. Best is trial 41 with value: 0.8702226399734354.\n",
      "[I 2023-07-12 01:34:49,893] Trial 153 finished with value: 0.8689988431504867 and parameters: {'lr': 0.006191497450968537, 'n_epochs': 34, 'dropout': 0.30693164360421094}. Best is trial 41 with value: 0.8702226399734354.\n",
      "[I 2023-07-12 01:34:50,162] Trial 154 finished with value: 0.8677415726726437 and parameters: {'lr': 0.002619773107365041, 'n_epochs': 30, 'dropout': 0.2841796432237548}. Best is trial 41 with value: 0.8702226399734354.\n",
      "[I 2023-07-12 01:34:50,428] Trial 155 finished with value: 0.8690657904602761 and parameters: {'lr': 0.005243311467838011, 'n_epochs': 25, 'dropout': 0.23138596962457228}. Best is trial 41 with value: 0.8702226399734354.\n",
      "[I 2023-07-12 01:34:50,725] Trial 156 finished with value: 0.8664267275083818 and parameters: {'lr': 0.0019954960264660843, 'n_epochs': 37, 'dropout': 0.2601593670821873}. Best is trial 41 with value: 0.8702226399734354.\n",
      "[I 2023-07-12 01:34:50,993] Trial 157 finished with value: 0.8684860267575008 and parameters: {'lr': 0.0068019317340212515, 'n_epochs': 28, 'dropout': 0.2047125338279395}. Best is trial 41 with value: 0.8702226399734354.\n",
      "[I 2023-07-12 01:34:51,258] Trial 158 finished with value: 0.8679691935259274 and parameters: {'lr': 0.004754767539228081, 'n_epochs': 23, 'dropout': 0.2696625195084097}. Best is trial 41 with value: 0.8702226399734354.\n",
      "[I 2023-07-12 01:34:51,550] Trial 159 finished with value: 0.8682436774960636 and parameters: {'lr': 0.008175467505362752, 'n_epochs': 32, 'dropout': 0.2434504490413129}. Best is trial 41 with value: 0.8702226399734354.\n",
      "[I 2023-07-12 01:34:51,882] Trial 160 finished with value: 0.8684418415330398 and parameters: {'lr': 0.00325146025498362, 'n_epochs': 58, 'dropout': 0.17888671721039812}. Best is trial 41 with value: 0.8702226399734354.\n",
      "[I 2023-07-12 01:34:52,171] Trial 161 finished with value: 0.8689011000781944 and parameters: {'lr': 0.00472946566230917, 'n_epochs': 28, 'dropout': 0.19172382562396822}. Best is trial 41 with value: 0.8702226399734354.\n",
      "[I 2023-07-12 01:34:52,455] Trial 162 finished with value: 0.8700780337842903 and parameters: {'lr': 0.004135804515523163, 'n_epochs': 29, 'dropout': 0.21060127201588297}. Best is trial 41 with value: 0.8702226399734354.\n",
      "[I 2023-07-12 01:34:52,726] Trial 163 finished with value: 0.8672434846878113 and parameters: {'lr': 0.003955782614342276, 'n_epochs': 30, 'dropout': 0.21530015720332157}. Best is trial 41 with value: 0.8702226399734354.\n",
      "[I 2023-07-12 01:34:53,004] Trial 164 finished with value: 0.8686185824308836 and parameters: {'lr': 0.005860260989244106, 'n_epochs': 34, 'dropout': 0.194631523873453}. Best is trial 41 with value: 0.8702226399734354.\n",
      "[I 2023-07-12 01:34:53,272] Trial 165 finished with value: 0.8686051929689257 and parameters: {'lr': 0.010048569238731448, 'n_epochs': 26, 'dropout': 0.22543895798136085}. Best is trial 41 with value: 0.8702226399734354.\n",
      "[I 2023-07-12 01:34:53,539] Trial 166 finished with value: 0.8628611137890034 and parameters: {'lr': 0.0024003640027979475, 'n_epochs': 24, 'dropout': 0.29524354150812915}. Best is trial 41 with value: 0.8702226399734354.\n",
      "[I 2023-07-12 01:34:53,818] Trial 167 finished with value: 0.8679370588172286 and parameters: {'lr': 0.005816554991563723, 'n_epochs': 31, 'dropout': 0.20431394226263713}. Best is trial 41 with value: 0.8702226399734354.\n",
      "[I 2023-07-12 01:34:54,087] Trial 168 finished with value: 0.8693402744304123 and parameters: {'lr': 0.007279848461755477, 'n_epochs': 21, 'dropout': 0.250820231044544}. Best is trial 41 with value: 0.8702226399734354.\n",
      "[I 2023-07-12 01:34:54,361] Trial 169 finished with value: 0.8679102798933128 and parameters: {'lr': 0.007353124311444092, 'n_epochs': 21, 'dropout': 0.24809937289205658}. Best is trial 41 with value: 0.8702226399734354.\n",
      "[I 2023-07-12 01:34:54,621] Trial 170 finished with value: 0.8679477703867947 and parameters: {'lr': 0.014096590826148834, 'n_epochs': 15, 'dropout': 0.2308905569112354}. Best is trial 41 with value: 0.8702226399734354.\n",
      "[I 2023-07-12 01:34:54,895] Trial 171 finished with value: 0.8637247340852855 and parameters: {'lr': 0.0039622824712404634, 'n_epochs': 18, 'dropout': 0.25993348653307774}. Best is trial 41 with value: 0.8702226399734354.\n",
      "[I 2023-07-12 01:34:55,182] Trial 172 finished with value: 0.8685489572287028 and parameters: {'lr': 0.00747189790441229, 'n_epochs': 26, 'dropout': 0.30475965089476603}. Best is trial 41 with value: 0.8702226399734354.\n",
      "[I 2023-07-12 01:34:55,439] Trial 173 finished with value: 0.8633846417515559 and parameters: {'lr': 0.003214317787315912, 'n_epochs': 20, 'dropout': 0.27845275658005575}. Best is trial 41 with value: 0.8702226399734354.\n",
      "[I 2023-07-12 01:34:55,716] Trial 174 finished with value: 0.8691139925233246 and parameters: {'lr': 0.0045018404228042656, 'n_epochs': 29, 'dropout': 0.2423374336091581}. Best is trial 41 with value: 0.8702226399734354.\n",
      "[I 2023-07-12 01:34:55,973] Trial 175 finished with value: 0.8694186027828658 and parameters: {'lr': 0.005600589890550843, 'n_epochs': 24, 'dropout': 0.26978841657952685}. Best is trial 41 with value: 0.8702226399734354.\n",
      "[I 2023-07-12 01:34:56,228] Trial 176 finished with value: 0.8686480392471909 and parameters: {'lr': 0.009413405313123508, 'n_epochs': 24, 'dropout': 0.16779545328527956}. Best is trial 41 with value: 0.8702226399734354.\n",
      "[I 2023-07-12 01:34:56,483] Trial 177 finished with value: 0.8694313227717259 and parameters: {'lr': 0.006464436635534331, 'n_epochs': 22, 'dropout': 0.18342032484405738}. Best is trial 41 with value: 0.8702226399734354.\n",
      "[I 2023-07-12 01:34:56,738] Trial 178 finished with value: 0.8689814368499416 and parameters: {'lr': 0.006587640960878218, 'n_epochs': 22, 'dropout': 0.1886086955072332}. Best is trial 41 with value: 0.8702226399734354.\n",
      "[I 2023-07-12 01:34:56,993] Trial 179 finished with value: 0.8677643347579721 and parameters: {'lr': 0.007939264613471893, 'n_epochs': 19, 'dropout': 0.21274434157638372}. Best is trial 41 with value: 0.8702226399734354.\n",
      "[I 2023-07-12 01:34:57,247] Trial 180 finished with value: 0.8700017138511307 and parameters: {'lr': 0.005478236202250633, 'n_epochs': 22, 'dropout': 0.17949216907667984}. Best is trial 41 with value: 0.8702226399734354.\n",
      "[I 2023-07-12 01:34:57,502] Trial 181 finished with value: 0.8683266921602022 and parameters: {'lr': 0.0057762917057806, 'n_epochs': 22, 'dropout': 0.17787260686019643}. Best is trial 41 with value: 0.8702226399734354.\n",
      "[I 2023-07-12 01:34:57,757] Trial 182 finished with value: 0.8689252011097186 and parameters: {'lr': 0.011242209158566746, 'n_epochs': 17, 'dropout': 0.16395309387277984}. Best is trial 41 with value: 0.8702226399734354.\n",
      "[I 2023-07-12 01:34:58,030] Trial 183 finished with value: 0.8685543130134858 and parameters: {'lr': 0.005248507318866644, 'n_epochs': 27, 'dropout': 0.18534462349282646}. Best is trial 41 with value: 0.8702226399734354.\n",
      "[I 2023-07-12 01:34:58,303] Trial 184 finished with value: 0.8690416894287519 and parameters: {'lr': 0.008333246778277837, 'n_epochs': 24, 'dropout': 0.19611125341556238}. Best is trial 41 with value: 0.8702226399734354.\n",
      "[I 2023-07-12 01:34:58,563] Trial 185 finished with value: 0.8693697312467196 and parameters: {'lr': 0.006547256075357666, 'n_epochs': 21, 'dropout': 0.18361812282646003}. Best is trial 41 with value: 0.8702226399734354.\n",
      "[I 2023-07-12 01:34:58,825] Trial 186 finished with value: 0.8687203423417633 and parameters: {'lr': 0.0062286202139081445, 'n_epochs': 25, 'dropout': 0.17611908435427454}. Best is trial 41 with value: 0.8702226399734354.\n",
      "[I 2023-07-12 01:34:59,075] Trial 187 finished with value: 0.8676773032552458 and parameters: {'lr': 0.005360125809093921, 'n_epochs': 20, 'dropout': 0.15641205806942624}. Best is trial 41 with value: 0.8702226399734354.\n",
      "[I 2023-07-12 01:34:59,313] Trial 188 finished with value: 0.8651707959767345 and parameters: {'lr': 0.011884923021696312, 'n_epochs': 13, 'dropout': 0.18557314920367293}. Best is trial 41 with value: 0.8702226399734354.\n",
      "[I 2023-07-12 01:34:59,573] Trial 189 finished with value: 0.8688703043156913 and parameters: {'lr': 0.008982012171762681, 'n_epochs': 27, 'dropout': 0.1765607880517228}. Best is trial 41 with value: 0.8702226399734354.\n"
     ]
    },
    {
     "name": "stderr",
     "output_type": "stream",
     "text": [
      "[I 2023-07-12 01:34:59,833] Trial 190 finished with value: 0.867983921934081 and parameters: {'lr': 0.004703653182091812, 'n_epochs': 23, 'dropout': 0.2023233054428649}. Best is trial 41 with value: 0.8702226399734354.\n",
      "[I 2023-07-12 01:35:00,089] Trial 191 finished with value: 0.868528873035766 and parameters: {'lr': 0.007084342494394497, 'n_epochs': 21, 'dropout': 0.19397385752730964}. Best is trial 41 with value: 0.8702226399734354.\n",
      "[I 2023-07-12 01:35:00,339] Trial 192 finished with value: 0.8692037019184421 and parameters: {'lr': 0.006600144021047678, 'n_epochs': 18, 'dropout': 0.20659773843177837}. Best is trial 41 with value: 0.8702226399734354.\n",
      "[I 2023-07-12 01:35:00,609] Trial 193 finished with value: 0.8687939843825316 and parameters: {'lr': 0.005457976267514659, 'n_epochs': 25, 'dropout': 0.1672205670157885}. Best is trial 41 with value: 0.8702226399734354.\n",
      "[I 2023-07-12 01:35:00,872] Trial 194 finished with value: 0.8683896226314042 and parameters: {'lr': 0.008992145010742063, 'n_epochs': 22, 'dropout': 0.12833876129210817}. Best is trial 41 with value: 0.8702226399734354.\n",
      "[I 2023-07-12 01:35:01,139] Trial 195 finished with value: 0.8684873657036964 and parameters: {'lr': 0.007267709376637926, 'n_epochs': 19, 'dropout': 0.3266523465547718}. Best is trial 41 with value: 0.8702226399734354.\n",
      "[I 2023-07-12 01:35:01,409] Trial 196 finished with value: 0.8673211435671668 and parameters: {'lr': 0.010418997089633678, 'n_epochs': 28, 'dropout': 0.3176367522514111}. Best is trial 41 with value: 0.8702226399734354.\n",
      "[I 2023-07-12 01:35:01,654] Trial 197 finished with value: 0.8634395385455831 and parameters: {'lr': 0.004609444881277274, 'n_epochs': 15, 'dropout': 0.34227108675367934}. Best is trial 41 with value: 0.8702226399734354.\n",
      "[I 2023-07-12 01:35:01,910] Trial 198 finished with value: 0.8673680066840193 and parameters: {'lr': 0.003772657077373653, 'n_epochs': 23, 'dropout': 0.21394712179823178}. Best is trial 41 with value: 0.8702226399734354.\n",
      "[I 2023-07-12 01:35:02,172] Trial 199 finished with value: 0.870242724166372 and parameters: {'lr': 0.006182603617802492, 'n_epochs': 26, 'dropout': 0.27092120692324423}. Best is trial 199 with value: 0.870242724166372.\n",
      "[I 2023-07-12 01:35:02,426] Trial 200 finished with value: 0.843111657401159 and parameters: {'lr': 0.000775329066700408, 'n_epochs': 26, 'dropout': 0.2906476379608216}. Best is trial 199 with value: 0.870242724166372.\n",
      "[I 2023-07-12 01:35:02,701] Trial 201 finished with value: 0.868540923551528 and parameters: {'lr': 0.006297882514772348, 'n_epochs': 29, 'dropout': 0.2675306682804473}. Best is trial 199 with value: 0.870242724166372.\n",
      "[I 2023-07-12 01:35:02,966] Trial 202 finished with value: 0.8543614833381536 and parameters: {'lr': 0.0011618729367170813, 'n_epochs': 27, 'dropout': 0.2702788872663403}. Best is trial 199 with value: 0.870242724166372.\n",
      "[I 2023-07-12 01:35:03,216] Trial 203 finished with value: 0.8695745900146747 and parameters: {'lr': 0.007937579776911258, 'n_epochs': 21, 'dropout': 0.28287117962270836}. Best is trial 199 with value: 0.870242724166372.\n",
      "[I 2023-07-12 01:35:03,470] Trial 204 finished with value: 0.8692257945306725 and parameters: {'lr': 0.005474315747229559, 'n_epochs': 24, 'dropout': 0.2824492607982402}. Best is trial 199 with value: 0.870242724166372.\n",
      "[I 2023-07-12 01:35:03,764] Trial 205 finished with value: 0.8705198860288997 and parameters: {'lr': 0.00439315251029542, 'n_epochs': 33, 'dropout': 0.29337819362467055}. Best is trial 205 with value: 0.8705198860288997.\n",
      "[I 2023-07-12 01:35:04,052] Trial 206 finished with value: 0.8693175123450839 and parameters: {'lr': 0.004104738963725147, 'n_epochs': 33, 'dropout': 0.30288298872898217}. Best is trial 205 with value: 0.8705198860288997.\n",
      "[I 2023-07-12 01:35:04,340] Trial 207 finished with value: 0.8680615808134367 and parameters: {'lr': 0.004899240778266593, 'n_epochs': 35, 'dropout': 0.2885486611955346}. Best is trial 205 with value: 0.8705198860288997.\n",
      "[I 2023-07-12 01:35:04,615] Trial 208 finished with value: 0.8687886285977484 and parameters: {'lr': 0.003427568328091729, 'n_epochs': 32, 'dropout': 0.27572692081346245}. Best is trial 205 with value: 0.8705198860288997.\n",
      "[I 2023-07-12 01:35:04,894] Trial 209 finished with value: 0.869047045213535 and parameters: {'lr': 0.0058265234322380476, 'n_epochs': 30, 'dropout': 0.291870604651288}. Best is trial 205 with value: 0.8705198860288997.\n",
      "[I 2023-07-12 01:35:05,158] Trial 210 finished with value: 0.8685328898743534 and parameters: {'lr': 0.004052601173752735, 'n_epochs': 29, 'dropout': 0.1867988596879975}. Best is trial 205 with value: 0.8705198860288997.\n",
      "[I 2023-07-12 01:35:05,415] Trial 211 finished with value: 0.8683909615776001 and parameters: {'lr': 0.007817668028767667, 'n_epochs': 25, 'dropout': 0.30078677521392927}. Best is trial 205 with value: 0.8705198860288997.\n",
      "[I 2023-07-12 01:35:05,679] Trial 212 finished with value: 0.8692974281521471 and parameters: {'lr': 0.009719251174428283, 'n_epochs': 27, 'dropout': 0.3118685105125904}. Best is trial 205 with value: 0.8705198860288997.\n",
      "[I 2023-07-12 01:35:05,935] Trial 213 finished with value: 0.8671644868622598 and parameters: {'lr': 0.006676218749431403, 'n_epochs': 20, 'dropout': 0.28443796430850427}. Best is trial 205 with value: 0.8705198860288997.\n",
      "[I 2023-07-12 01:35:06,193] Trial 214 finished with value: 0.8674644108101159 and parameters: {'lr': 0.004915229776606114, 'n_epochs': 23, 'dropout': 0.2620776037295836}. Best is trial 205 with value: 0.8705198860288997.\n",
      "[I 2023-07-12 01:35:06,468] Trial 215 finished with value: 0.8679865998264726 and parameters: {'lr': 0.008270642767722212, 'n_epochs': 32, 'dropout': 0.3094585802510813}. Best is trial 205 with value: 0.8705198860288997.\n",
      "[I 2023-07-12 01:35:06,727] Trial 216 finished with value: 0.8677295221568817 and parameters: {'lr': 0.006223695611393699, 'n_epochs': 17, 'dropout': 0.19695981218848174}. Best is trial 205 with value: 0.8705198860288997.\n",
      "[I 2023-07-12 01:35:07,007] Trial 217 finished with value: 0.8669904238568078 and parameters: {'lr': 0.014822831988195907, 'n_epochs': 29, 'dropout': 0.32932700880927235}. Best is trial 205 with value: 0.8705198860288997.\n",
      "[I 2023-07-12 01:35:07,280] Trial 218 finished with value: 0.44835550628233556 and parameters: {'lr': 1.8617878328571615e-05, 'n_epochs': 25, 'dropout': 0.4897261929295504}. Best is trial 205 with value: 0.8705198860288997.\n",
      "[I 2023-07-12 01:35:07,536] Trial 219 finished with value: 0.8634315048684085 and parameters: {'lr': 0.0027294718480078187, 'n_epochs': 21, 'dropout': 0.27505335201589043}. Best is trial 205 with value: 0.8705198860288997.\n",
      "[I 2023-07-12 01:35:07,803] Trial 220 finished with value: 0.573027464464368 and parameters: {'lr': 2.8333120137183467e-05, 'n_epochs': 27, 'dropout': 0.21987651425109989}. Best is trial 205 with value: 0.8705198860288997.\n",
      "[I 2023-07-12 01:35:08,054] Trial 221 finished with value: 0.8678620778302645 and parameters: {'lr': 0.007367789249247913, 'n_epochs': 19, 'dropout': 0.25435950819536324}. Best is trial 205 with value: 0.8705198860288997.\n",
      "[I 2023-07-12 01:35:08,308] Trial 222 finished with value: 0.8702387073277847 and parameters: {'lr': 0.005573958620854295, 'n_epochs': 22, 'dropout': 0.26395616337238903}. Best is trial 205 with value: 0.8705198860288997.\n",
      "[I 2023-07-12 01:35:08,563] Trial 223 finished with value: 0.8675929496449114 and parameters: {'lr': 0.004498129356037115, 'n_epochs': 23, 'dropout': 0.26753984716222395}. Best is trial 205 with value: 0.8705198860288997.\n",
      "[I 2023-07-12 01:35:08,834] Trial 224 finished with value: 0.8692974281521471 and parameters: {'lr': 0.005587434354934734, 'n_epochs': 31, 'dropout': 0.29536393733676475}. Best is trial 205 with value: 0.8705198860288997.\n",
      "[I 2023-07-12 01:35:09,101] Trial 225 finished with value: 0.8682168985721477 and parameters: {'lr': 0.012514186305829633, 'n_epochs': 26, 'dropout': 0.2834768544262515}. Best is trial 205 with value: 0.8705198860288997.\n",
      "[I 2023-07-12 01:35:09,381] Trial 226 finished with value: 0.867883500969397 and parameters: {'lr': 0.004440622114429914, 'n_epochs': 22, 'dropout': 0.26030161851784983}. Best is trial 205 with value: 0.8705198860288997.\n",
      "[I 2023-07-12 01:35:09,688] Trial 227 finished with value: 0.867358634060649 and parameters: {'lr': 0.005924334641401472, 'n_epochs': 34, 'dropout': 0.2745504049521396}. Best is trial 205 with value: 0.8705198860288997.\n"
     ]
    },
    {
     "name": "stderr",
     "output_type": "stream",
     "text": [
      "[I 2023-07-12 01:35:09,985] Trial 228 finished with value: 0.8693268849684546 and parameters: {'lr': 0.0036386279204871897, 'n_epochs': 28, 'dropout': 0.31708689698208103}. Best is trial 205 with value: 0.8705198860288997.\n",
      "[I 2023-07-12 01:35:10,266] Trial 229 finished with value: 0.8694112385787889 and parameters: {'lr': 0.008982642900121017, 'n_epochs': 24, 'dropout': 0.18663445598053882}. Best is trial 205 with value: 0.8705198860288997.\n",
      "[I 2023-07-12 01:35:10,551] Trial 230 finished with value: 0.8688408474993842 and parameters: {'lr': 0.010633056210968146, 'n_epochs': 25, 'dropout': 0.20174243887719878}. Best is trial 205 with value: 0.8705198860288997.\n",
      "[I 2023-07-12 01:35:10,821] Trial 231 finished with value: 0.8694875585119488 and parameters: {'lr': 0.008998406157234198, 'n_epochs': 20, 'dropout': 0.20775648893270873}. Best is trial 205 with value: 0.8705198860288997.\n",
      "[I 2023-07-12 01:35:11,093] Trial 232 finished with value: 0.8692264640037706 and parameters: {'lr': 0.008456478412695013, 'n_epochs': 21, 'dropout': 0.1817481111494854}. Best is trial 205 with value: 0.8705198860288997.\n",
      "[I 2023-07-12 01:35:11,363] Trial 233 finished with value: 0.8683266921602023 and parameters: {'lr': 0.00696121019145168, 'n_epochs': 24, 'dropout': 0.19249385303535882}. Best is trial 205 with value: 0.8705198860288997.\n",
      "[I 2023-07-12 01:35:11,632] Trial 234 finished with value: 0.8692264640037705 and parameters: {'lr': 0.005293343132295064, 'n_epochs': 23, 'dropout': 0.20814415689052074}. Best is trial 205 with value: 0.8705198860288997.\n",
      "[I 2023-07-12 01:35:11,900] Trial 235 finished with value: 0.8700820506228778 and parameters: {'lr': 0.009985412521074192, 'n_epochs': 20, 'dropout': 0.1875619886931122}. Best is trial 205 with value: 0.8705198860288997.\n",
      "[I 2023-07-12 01:35:12,167] Trial 236 finished with value: 0.8683708773846631 and parameters: {'lr': 0.009962514049814502, 'n_epochs': 19, 'dropout': 0.4217143304283811}. Best is trial 205 with value: 0.8705198860288997.\n",
      "[I 2023-07-12 01:35:12,448] Trial 237 finished with value: 0.8669716786100667 and parameters: {'lr': 0.01139281374508475, 'n_epochs': 30, 'dropout': 0.22383930289831044}. Best is trial 205 with value: 0.8705198860288997.\n",
      "[I 2023-07-12 01:35:12,749] Trial 238 finished with value: 0.8650061055946527 and parameters: {'lr': 0.0210870030311336, 'n_epochs': 26, 'dropout': 0.19790855035113383}. Best is trial 205 with value: 0.8705198860288997.\n",
      "[I 2023-07-12 01:35:13,037] Trial 239 finished with value: 0.8661656330002035 and parameters: {'lr': 0.016862859193179147, 'n_epochs': 28, 'dropout': 0.20702729783892837}. Best is trial 205 with value: 0.8705198860288997.\n",
      "[I 2023-07-12 01:35:13,321] Trial 240 finished with value: 0.8703083325299656 and parameters: {'lr': 0.008727441277919402, 'n_epochs': 24, 'dropout': 0.4583871297068656}. Best is trial 205 with value: 0.8705198860288997.\n",
      "[I 2023-07-12 01:35:13,586] Trial 241 finished with value: 0.8685797529912058 and parameters: {'lr': 0.008844791628244277, 'n_epochs': 24, 'dropout': 0.39962263496704026}. Best is trial 205 with value: 0.8705198860288997.\n",
      "[I 2023-07-12 01:35:13,838] Trial 242 finished with value: 0.8683066079672653 and parameters: {'lr': 0.007975300355322573, 'n_epochs': 20, 'dropout': 0.34871024394121974}. Best is trial 205 with value: 0.8705198860288997.\n",
      "[I 2023-07-12 01:35:14,104] Trial 243 finished with value: 0.8703217219919235 and parameters: {'lr': 0.009549350592094037, 'n_epochs': 22, 'dropout': 0.46821263706956706}. Best is trial 205 with value: 0.8705198860288997.\n",
      "[I 2023-07-12 01:35:14,354] Trial 244 finished with value: 0.8689948263118994 and parameters: {'lr': 0.012722978020525669, 'n_epochs': 18, 'dropout': 0.3811479729972138}. Best is trial 205 with value: 0.8705198860288997.\n",
      "[I 2023-07-12 01:35:14,616] Trial 245 finished with value: 0.8678272652291741 and parameters: {'lr': 0.005025454203152963, 'n_epochs': 22, 'dropout': 0.47747782232964725}. Best is trial 205 with value: 0.8705198860288997.\n",
      "[I 2023-07-12 01:35:14,889] Trial 246 finished with value: 0.8696582741519117 and parameters: {'lr': 0.006316800146556732, 'n_epochs': 26, 'dropout': 0.4089156944862801}. Best is trial 205 with value: 0.8705198860288997.\n",
      "[I 2023-07-12 01:35:15,146] Trial 247 finished with value: 0.8674054971775014 and parameters: {'lr': 0.027722057676480272, 'n_epochs': 22, 'dropout': 0.4350798756070426}. Best is trial 205 with value: 0.8705198860288997.\n",
      "[I 2023-07-12 01:35:15,428] Trial 248 finished with value: 0.8687497991580706 and parameters: {'lr': 0.0060289743153368975, 'n_epochs': 26, 'dropout': 0.2327160886012097}. Best is trial 205 with value: 0.8705198860288997.\n",
      "[I 2023-07-12 01:35:15,699] Trial 249 finished with value: 0.8681941364868194 and parameters: {'lr': 0.00393411466350892, 'n_epochs': 25, 'dropout': 0.4078026275378868}. Best is trial 205 with value: 0.8705198860288997.\n",
      "[I 2023-07-12 01:35:15,982] Trial 250 finished with value: 0.868760510727637 and parameters: {'lr': 0.01081015537997632, 'n_epochs': 20, 'dropout': 0.41019713834026245}. Best is trial 205 with value: 0.8705198860288997.\n",
      "[I 2023-07-12 01:35:16,263] Trial 251 finished with value: 0.869028969439892 and parameters: {'lr': 0.004363935994910236, 'n_epochs': 27, 'dropout': 0.4612445426116773}. Best is trial 205 with value: 0.8705198860288997.\n",
      "[I 2023-07-12 01:35:16,530] Trial 252 finished with value: 0.8697593645896933 and parameters: {'lr': 0.007293989831726651, 'n_epochs': 23, 'dropout': 0.4219081146429602}. Best is trial 205 with value: 0.8705198860288997.\n",
      "[I 2023-07-12 01:35:16,782] Trial 253 finished with value: 0.8709670940582923 and parameters: {'lr': 0.0072074124925475104, 'n_epochs': 23, 'dropout': 0.4444672818366425}. Best is trial 253 with value: 0.8709670940582923.\n",
      "[I 2023-07-12 01:35:17,036] Trial 254 finished with value: 0.8699441391647118 and parameters: {'lr': 0.008009707416818931, 'n_epochs': 22, 'dropout': 0.4603301111034533}. Best is trial 253 with value: 0.8709670940582923.\n",
      "[I 2023-07-12 01:35:17,285] Trial 255 finished with value: 0.8682691174737834 and parameters: {'lr': 0.009427236506985476, 'n_epochs': 20, 'dropout': 0.45751685322578384}. Best is trial 253 with value: 0.8709670940582923.\n",
      "[I 2023-07-12 01:35:17,556] Trial 256 finished with value: 0.8582993240999603 and parameters: {'lr': 0.0017006956819007435, 'n_epochs': 23, 'dropout': 0.44356321772995055}. Best is trial 253 with value: 0.8709670940582923.\n",
      "[I 2023-07-12 01:35:17,822] Trial 257 finished with value: 0.8680388187281082 and parameters: {'lr': 0.01400469913661024, 'n_epochs': 17, 'dropout': 0.4503996469435867}. Best is trial 253 with value: 0.8709670940582923.\n",
      "[I 2023-07-12 01:35:18,103] Trial 258 finished with value: 0.8673318551367332 and parameters: {'lr': 0.007651134209184928, 'n_epochs': 21, 'dropout': 0.4648501484347425}. Best is trial 253 with value: 0.8709670940582923.\n",
      "[I 2023-07-12 01:35:18,443] Trial 259 finished with value: 0.8627620317705151 and parameters: {'lr': 0.00786715749858752, 'n_epochs': 69, 'dropout': 0.4750416593855536}. Best is trial 253 with value: 0.8709670940582923.\n",
      "[I 2023-07-12 01:35:18,723] Trial 260 finished with value: 0.869147466178219 and parameters: {'lr': 0.010776840669267337, 'n_epochs': 23, 'dropout': 0.4481103392889252}. Best is trial 253 with value: 0.8709670940582923.\n",
      "[I 2023-07-12 01:35:19,001] Trial 261 finished with value: 0.8685422624977237 and parameters: {'lr': 0.0097794306532355, 'n_epochs': 19, 'dropout': 0.43807039642672035}. Best is trial 253 with value: 0.8709670940582923.\n",
      "[I 2023-07-12 01:35:19,336] Trial 262 finished with value: 0.8630472273102177 and parameters: {'lr': 0.012786536839829391, 'n_epochs': 52, 'dropout': 0.4345483514290144}. Best is trial 253 with value: 0.8709670940582923.\n",
      "[I 2023-07-12 01:35:19,608] Trial 263 finished with value: 0.8689680473879837 and parameters: {'lr': 0.006928143118460119, 'n_epochs': 25, 'dropout': 0.47425355754905696}. Best is trial 253 with value: 0.8709670940582923.\n",
      "[I 2023-07-12 01:35:19,862] Trial 264 finished with value: 0.868246355388455 and parameters: {'lr': 0.008261691920764822, 'n_epochs': 22, 'dropout': 0.4564403442029047}. Best is trial 253 with value: 0.8709670940582923.\n",
      "[I 2023-07-12 01:35:20,140] Trial 265 finished with value: 0.8633940143749262 and parameters: {'lr': 0.017571096809054138, 'n_epochs': 36, 'dropout': 0.4180110020521328}. Best is trial 253 with value: 0.8709670940582923.\n"
     ]
    },
    {
     "name": "stderr",
     "output_type": "stream",
     "text": [
      "[I 2023-07-12 01:35:20,409] Trial 266 finished with value: 0.8701074906005977 and parameters: {'lr': 0.006632368817975612, 'n_epochs': 32, 'dropout': 0.49695507088846214}. Best is trial 253 with value: 0.8709670940582923.\n",
      "[I 2023-07-12 01:35:20,684] Trial 267 finished with value: 0.8581975641890807 and parameters: {'lr': 0.043490224282498886, 'n_epochs': 33, 'dropout': 0.46787681868292513}. Best is trial 253 with value: 0.8709670940582923.\n",
      "[I 2023-07-12 01:35:20,945] Trial 268 finished with value: 0.8693563417847618 and parameters: {'lr': 0.006139573355181807, 'n_epochs': 26, 'dropout': 0.4254260744454237}. Best is trial 253 with value: 0.8709670940582923.\n",
      "[I 2023-07-12 01:35:21,210] Trial 269 finished with value: 0.8532528358880427 and parameters: {'lr': 0.0009869479456750623, 'n_epochs': 29, 'dropout': 0.49574702901092804}. Best is trial 253 with value: 0.8709670940582923.\n",
      "[I 2023-07-12 01:35:21,461] Trial 270 finished with value: 0.8599770236832803 and parameters: {'lr': 0.0031382356853881643, 'n_epochs': 16, 'dropout': 0.4853986227255313}. Best is trial 253 with value: 0.8709670940582923.\n",
      "[I 2023-07-12 01:35:21,749] Trial 271 finished with value: 0.8595204430305172 and parameters: {'lr': 0.0019978670181434286, 'n_epochs': 24, 'dropout': 0.4507838064349708}. Best is trial 253 with value: 0.8709670940582923.\n",
      "[I 2023-07-12 01:35:22,012] Trial 272 finished with value: 0.8657043660357552 and parameters: {'lr': 0.06915993401272308, 'n_epochs': 20, 'dropout': 0.4629687996317791}. Best is trial 253 with value: 0.8709670940582923.\n"
     ]
    }
   ],
   "source": [
    "if __name__ == \"__main__\":\n",
    "    study = optuna.create_study(direction=\"maximize\")\n",
    "    study.optimize(objective, n_trials=500, timeout=600)\n",
    "\n",
    "    print(\"Number of finished trials: {}\".format(len(study.trials)))\n",
    "\n",
    "    print(\"Best trial:\")\n",
    "    trial = study.best_trial\n",
    "\n",
    "    print(\"  Value: {}\".format(trial.value))\n",
    "\n",
    "    print(\"  Params: \")\n",
    "    for key, value in trial.params.items():\n",
    "        print(\"    {}: {}\".format(key, value))"
   ]
  },
  {
   "cell_type": "code",
   "execution_count": 182,
   "id": "8a7e26fe",
   "metadata": {},
   "outputs": [
    {
     "data": {
      "text/plain": [
       "<Axes: ylabel='Count'>"
      ]
     },
     "execution_count": 182,
     "metadata": {},
     "output_type": "execute_result"
    },
    {
     "data": {
      "image/png": "[encoded data removed]",
      "text/plain": [
       "<Figure size 500x500 with 1 Axes>"
      ]
     },
     "metadata": {},
     "output_type": "display_data"
    }
   ],
   "source": [
    "plt.figure(figsize=(5,5))\n",
    "sns.histplot(x=pred_p, hue=y_test)"
   ]
  },
  {
   "cell_type": "code",
   "execution_count": 183,
   "id": "1fd0c39f",
   "metadata": {},
   "outputs": [
    {
     "data": {
      "text/plain": [
       "<Axes: ylabel='Count'>"
      ]
     },
     "execution_count": 183,
     "metadata": {},
     "output_type": "execute_result"
    },
    {
     "data": {
      "image/png": "[encoded data removed]",
      "text/plain": [
       "<Figure size 500x500 with 1 Axes>"
      ]
     },
     "metadata": {},
     "output_type": "display_data"
    }
   ],
   "source": [
    "plt.figure(figsize=(5,5))\n",
    "sns.histplot(x=y_proba, hue=y_test)"
   ]
  },
  {
   "cell_type": "code",
   "execution_count": 75,
   "id": "3eae4efe",
   "metadata": {},
   "outputs": [],
   "source": [
    "class CustomBertModel(torch.nn.Module):\n",
    "    def __init__(self, bert_model):\n",
    "        super().__init__()\n",
    "        self.bert_model=bert_model\n",
    "        self.l1=torch.nn.Linear(768,324)\n",
    "        self.l2=torch.nn.Linear(324, 1)\n",
    "        self.relu=torch.nn.ReLU()\n",
    "    def forward(self, input_ids, attention_mask=None):\n",
    "        embeddings=self.bert_model(input_ids, attention_mask=attention_mask)\n",
    "        outputs=self.l1(embeddings[\"last_hidden_state\"][:,0,:])\n",
    "        outputs=self.relu(outputs)\n",
    "        outputs=self.l2(outputs)\n",
    "        return outputs"
   ]
  },
  {
   "cell_type": "code",
   "execution_count": 64,
   "id": "5ad9c9f9",
   "metadata": {},
   "outputs": [
    {
     "data": {
      "text/plain": [
       "CustomBertModel(\n",
       "  (bert_model): DistilBertModel(\n",
       "    (embeddings): Embeddings(\n",
       "      (word_embeddings): Embedding(30522, 768, padding_idx=0)\n",
       "      (position_embeddings): Embedding(512, 768)\n",
       "      (LayerNorm): LayerNorm((768,), eps=1e-12, elementwise_affine=True)\n",
       "      (dropout): Dropout(p=0.1, inplace=False)\n",
       "    )\n",
       "    (transformer): Transformer(\n",
       "      (layer): ModuleList(\n",
       "        (0-5): 6 x TransformerBlock(\n",
       "          (attention): MultiHeadSelfAttention(\n",
       "            (dropout): Dropout(p=0.1, inplace=False)\n",
       "            (q_lin): Linear(in_features=768, out_features=768, bias=True)\n",
       "            (k_lin): Linear(in_features=768, out_features=768, bias=True)\n",
       "            (v_lin): Linear(in_features=768, out_features=768, bias=True)\n",
       "            (out_lin): Linear(in_features=768, out_features=768, bias=True)\n",
       "          )\n",
       "          (sa_layer_norm): LayerNorm((768,), eps=1e-12, elementwise_affine=True)\n",
       "          (ffn): FFN(\n",
       "            (dropout): Dropout(p=0.1, inplace=False)\n",
       "            (lin1): Linear(in_features=768, out_features=3072, bias=True)\n",
       "            (lin2): Linear(in_features=3072, out_features=768, bias=True)\n",
       "            (activation): GELUActivation()\n",
       "          )\n",
       "          (output_layer_norm): LayerNorm((768,), eps=1e-12, elementwise_affine=True)\n",
       "        )\n",
       "      )\n",
       "    )\n",
       "  )\n",
       "  (l1): Linear(in_features=768, out_features=324, bias=True)\n",
       "  (l2): Linear(in_features=324, out_features=1, bias=True)\n",
       "  (relu): ReLU()\n",
       ")"
      ]
     },
     "execution_count": 64,
     "metadata": {},
     "output_type": "execute_result"
    }
   ],
   "source": [
    "mm=CustomBertModel(model)\n",
    "mm.to(device)"
   ]
  },
  {
   "cell_type": "code",
   "execution_count": 76,
   "id": "7de4fdfd",
   "metadata": {},
   "outputs": [],
   "source": [
    "opt=torch.optim.Adam(mm.parameters(), lr=1e-4)\n",
    "criterion=torch.nn.BCELoss()"
   ]
  },
  {
   "cell_type": "code",
   "execution_count": 78,
   "id": "390b8973",
   "metadata": {},
   "outputs": [],
   "source": [
    "EPOCHS=3"
   ]
  },
  {
   "cell_type": "code",
   "execution_count": 80,
   "id": "0c069bd7",
   "metadata": {},
   "outputs": [
    {
     "data": {
      "text/plain": [
       "[tensor([[  101,  1037, 18385,  ...,     0,     0,     0],\n",
       "         [  101,  2023,  2003,  ...,     0,     0,     0],\n",
       "         [  101,  5655,  6262,  ...,     0,     0,     0],\n",
       "         ...,\n",
       "         [  101,  2009,  2038,  ...,     0,     0,     0],\n",
       "         [  101,  6320, 25624,  ...,     0,     0,     0],\n",
       "         [  101,  2009,  1005,  ...,     0,     0,     0]]),\n",
       " tensor([[1, 1, 1,  ..., 0, 0, 0],\n",
       "         [1, 1, 1,  ..., 0, 0, 0],\n",
       "         [1, 1, 1,  ..., 0, 0, 0],\n",
       "         ...,\n",
       "         [1, 1, 1,  ..., 0, 0, 0],\n",
       "         [1, 1, 1,  ..., 0, 0, 0],\n",
       "         [1, 1, 1,  ..., 0, 0, 0]]),\n",
       " [tensor([1, 1, 1, 1, 1, 1, 1, 1, 1, 1, 1, 1, 1, 1, 1, 1, 1, 1, 1, 1, 1, 1, 1, 1,\n",
       "          1, 1, 1, 1, 1, 1, 1, 1, 1, 1, 1, 1, 1, 1, 1, 1, 1, 1, 1, 1, 1, 1, 1, 1,\n",
       "          1, 1, 1, 1, 1, 1, 1, 1, 1, 1, 1, 1, 1, 1, 1, 1])]]"
      ]
     },
     "execution_count": 80,
     "metadata": {},
     "output_type": "execute_result"
    }
   ],
   "source": [
    "next(iter(dataloader))"
   ]
  },
  {
   "cell_type": "code",
   "execution_count": 88,
   "id": "500f731b",
   "metadata": {},
   "outputs": [
    {
     "name": "stdout",
     "output_type": "stream",
     "text": [
      "tensor([[  101,  1037, 18385,  ...,     0,     0,     0],\n",
      "        [  101,  2023,  2003,  ...,     0,     0,     0],\n",
      "        [  101,  5655,  6262,  ...,     0,     0,     0],\n",
      "        ...,\n",
      "        [  101,  2009,  2038,  ...,     0,     0,     0],\n",
      "        [  101,  6320, 25624,  ...,     0,     0,     0],\n",
      "        [  101,  2009,  1005,  ...,     0,     0,     0]], device='cuda:0')\n"
     ]
    },
    {
     "ename": "TypeError",
     "evalue": "expected TensorOptions(dtype=int, device=cpu, layout=Strided, requires_grad=false (default), pinned_memory=false (default), memory_format=(nullopt)) (got TensorOptions(dtype=long int, device=cpu, layout=Strided, requires_grad=false (default), pinned_memory=false (default), memory_format=(nullopt)))",
     "output_type": "error",
     "traceback": [
      "\u001b[0;31m---------------------------------------------------------------------------\u001b[0m",
      "\u001b[0;31mTypeError\u001b[0m                                 Traceback (most recent call last)",
      "Cell \u001b[0;32mIn[88], line 9\u001b[0m\n\u001b[1;32m      7\u001b[0m \u001b[38;5;28mprint\u001b[39m(input_ids)\n\u001b[1;32m      8\u001b[0m attention_mask\u001b[38;5;241m=\u001b[39mattention_mask\u001b[38;5;241m.\u001b[39mto(device)\n\u001b[0;32m----> 9\u001b[0m labels \u001b[38;5;241m=\u001b[39m \u001b[43mtorch\u001b[49m\u001b[38;5;241;43m.\u001b[39;49m\u001b[43mIntTensor\u001b[49m\u001b[43m(\u001b[49m\u001b[43mlabels\u001b[49m\u001b[43m[\u001b[49m\u001b[38;5;241;43m0\u001b[39;49m\u001b[43m]\u001b[49m\u001b[38;5;241;43m.\u001b[39;49m\u001b[43mreshape\u001b[49m\u001b[43m(\u001b[49m\u001b[38;5;241;43m64\u001b[39;49m\u001b[43m,\u001b[49m\u001b[38;5;241;43m1\u001b[39;49m\u001b[43m)\u001b[49m\u001b[43m)\u001b[49m\u001b[38;5;241m.\u001b[39mto(device)\n\u001b[1;32m     10\u001b[0m outputs\u001b[38;5;241m=\u001b[39mmm(input_ids, attention_mask\u001b[38;5;241m=\u001b[39mattention_mask)\n\u001b[1;32m     11\u001b[0m loss\u001b[38;5;241m=\u001b[39mcriterion(outputs, labels)\n",
      "\u001b[0;31mTypeError\u001b[0m: expected TensorOptions(dtype=int, device=cpu, layout=Strided, requires_grad=false (default), pinned_memory=false (default), memory_format=(nullopt)) (got TensorOptions(dtype=long int, device=cpu, layout=Strided, requires_grad=false (default), pinned_memory=false (default), memory_format=(nullopt)))"
     ]
    }
   ],
   "source": [
    "losses=[]\n",
    "for epoch in range(EPOCHS):\n",
    "    model.train()\n",
    "    for batch in dataloader:\n",
    "        input_ids, attention_mask, labels = batch\n",
    "        input_ids = input_ids.to(device)\n",
    "        print(input_ids)\n",
    "        attention_mask=attention_mask.to(device)\n",
    "        labels = torch.IntTensor(labels[0].reshape(64,1)).to(device)\n",
    "        outputs=mm(input_ids, attention_mask=attention_mask)\n",
    "        loss=criterion(outputs, labels)\n",
    "        losses.append(loss.mean())\n",
    "        opt.zero_grad()\n",
    "        loss.backward()"
   ]
  },
  {
   "cell_type": "code",
   "execution_count": 150,
   "id": "4a3c6a48",
   "metadata": {},
   "outputs": [
    {
     "data": {
      "text/plain": [
       "DistilBertModel(\n",
       "  (embeddings): Embeddings(\n",
       "    (word_embeddings): Embedding(30522, 768, padding_idx=0)\n",
       "    (position_embeddings): Embedding(512, 768)\n",
       "    (LayerNorm): LayerNorm((768,), eps=1e-12, elementwise_affine=True)\n",
       "    (dropout): Dropout(p=0.1, inplace=False)\n",
       "  )\n",
       "  (transformer): Transformer(\n",
       "    (layer): ModuleList(\n",
       "      (0-5): 6 x TransformerBlock(\n",
       "        (attention): MultiHeadSelfAttention(\n",
       "          (dropout): Dropout(p=0.1, inplace=False)\n",
       "          (q_lin): Linear(in_features=768, out_features=768, bias=True)\n",
       "          (k_lin): Linear(in_features=768, out_features=768, bias=True)\n",
       "          (v_lin): Linear(in_features=768, out_features=768, bias=True)\n",
       "          (out_lin): Linear(in_features=768, out_features=768, bias=True)\n",
       "        )\n",
       "        (sa_layer_norm): LayerNorm((768,), eps=1e-12, elementwise_affine=True)\n",
       "        (ffn): FFN(\n",
       "          (dropout): Dropout(p=0.1, inplace=False)\n",
       "          (lin1): Linear(in_features=768, out_features=3072, bias=True)\n",
       "          (lin2): Linear(in_features=3072, out_features=768, bias=True)\n",
       "          (activation): GELUActivation()\n",
       "        )\n",
       "        (output_layer_norm): LayerNorm((768,), eps=1e-12, elementwise_affine=True)\n",
       "      )\n",
       "    )\n",
       "  )\n",
       ")"
      ]
     },
     "execution_count": 150,
     "metadata": {},
     "output_type": "execute_result"
    }
   ],
   "source": [
    "model"
   ]
  },
  {
   "cell_type": "code",
   "execution_count": null,
   "id": "0d200cc4",
   "metadata": {},
   "outputs": [],
   "source": []
  },
  {
   "cell_type": "code",
   "execution_count": 149,
   "id": "4ea82b99",
   "metadata": {},
   "outputs": [
    {
     "data": {
      "text/plain": [
       "'last_hidden_state'"
      ]
     },
     "execution_count": 149,
     "metadata": {},
     "output_type": "execute_result"
    }
   ],
   "source": [
    "embeddings[0]t"
   ]
  }
 ],
 "metadata": {
  "kernelspec": {
   "display_name": "Python 3 (ipykernel)",
   "language": "python",
   "name": "python3"
  },
  "language_info": {
   "codemirror_mode": {
    "name": "ipython",
    "version": 3
   },
   "file_extension": ".py",
   "mimetype": "text/x-python",
   "name": "python",
   "nbconvert_exporter": "python",
   "pygments_lexer": "ipython3",
   "version": "3.8.10"
  }
 },
 "nbformat": 4,
 "nbformat_minor": 5
}
